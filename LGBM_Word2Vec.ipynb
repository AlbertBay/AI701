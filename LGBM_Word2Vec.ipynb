{
 "cells": [
  {
   "cell_type": "code",
   "execution_count": 23,
   "metadata": {},
   "outputs": [
    {
     "name": "stdout",
     "output_type": "stream",
     "text": [
      "1.5.1\n"
     ]
    }
   ],
   "source": [
    "#import data\n",
    "import sklearn\n",
    "import numpy as np\n",
    "import pandas as pd\n",
    "import os\n",
    "\n",
    "print(sklearn.__version__)\n",
    "data_path = \"data_vectorized\"\n"
   ]
  },
  {
   "cell_type": "code",
   "execution_count": 24,
   "metadata": {},
   "outputs": [
    {
     "name": "stdout",
     "output_type": "stream",
     "text": [
      "Loaded DataFrames: ['df_test_100', 'df_test_256', 'df_test_512', 'df_train_100', 'df_train_256', 'df_train_512', 'df_val_100', 'df_val_256', 'df_val_512']\n",
      "df_test_100 (23265, 102)\n",
      "0\n",
      "df_test_256 (23265, 258)\n",
      "0\n",
      "df_test_512 (23265, 514)\n",
      "0\n",
      "df_train_100 (49855, 102)\n",
      "0\n",
      "df_train_256 (49855, 258)\n",
      "0\n",
      "df_train_512 (49855, 514)\n",
      "0\n",
      "df_val_100 (9972, 102)\n",
      "0\n",
      "df_val_256 (9972, 258)\n",
      "0\n",
      "df_val_512 (9972, 514)\n",
      "0\n"
     ]
    }
   ],
   "source": [
    "# index column | dimensions [1 to 100] | malicious (boolean y)\n",
    "# 0            |\n",
    "# 1            |\n",
    "# 2            |\n",
    "\n",
    "#grab csvs from data folder\n",
    "\n",
    "def dataset_imp(file_path, data_path=data_path, shape_print=True):\n",
    "    pd_dataframe = pd.read_csv(data_path + file_path)\n",
    "    if shape_print:\n",
    "        print(file_path, pd_dataframe.shape)\n",
    "    return pd_dataframe\n",
    "\n",
    "dataframes = {}\n",
    "\n",
    "for file in os.listdir(data_path):\n",
    "    if file.endswith(\".csv\"):\n",
    "        base_name = os.path.splitext(file)[0]\n",
    "        variable_name = f\"df_{base_name.replace(' ', '_')}\"\n",
    "        \n",
    "        dataframes[variable_name] = pd.read_csv(os.path.join(data_path, file))\n",
    "\n",
    "print(\"Loaded DataFrames:\", list(dataframes.keys()))\n",
    "\n",
    "for name, df in dataframes.items():\n",
    "    print(name, df.shape)\n",
    "    print(df.duplicated().sum())"
   ]
  },
  {
   "cell_type": "code",
   "execution_count": 25,
   "metadata": {},
   "outputs": [],
   "source": [
    "\n",
    "import lightgbm as lgb\n",
    "from sklearn.model_selection import PredefinedSplit, GridSearchCV, cross_val_score, cross_validate\n",
    "from sklearn.metrics import make_scorer, accuracy_score, precision_score, recall_score, f1_score, average_precision_score, confusion_matrix, roc_auc_score, ConfusionMatrixDisplay\n",
    "import matplotlib.pyplot as plt\n",
    "import pandas as pd\n",
    "import numpy as np\n",
    "import optuna\n",
    "import random"
   ]
  },
  {
   "cell_type": "code",
   "execution_count": 26,
   "metadata": {},
   "outputs": [
    {
     "name": "stdout",
     "output_type": "stream",
     "text": [
      "train\n",
      "   Unnamed: 0         0         1         2         3         4         5  \\\n",
      "0           0  0.995222 -0.658576  0.903992 -0.148808  0.300412 -0.399113   \n",
      "1           1  1.149676 -0.467306  0.767652 -0.451093  0.160331 -0.355261   \n",
      "2           2  1.017112 -0.569883  0.874475 -0.294928  0.309529 -0.256837   \n",
      "3           3  0.613968 -0.817823  0.897287 -0.581778  0.540332 -0.310492   \n",
      "4           4  0.088586 -0.703151  0.413936  0.552796  0.379939  0.005974   \n",
      "\n",
      "          6         7         8  ...        91        92        93        94  \\\n",
      "0 -0.570689  0.109029  0.073145  ... -0.061783  0.902299 -2.003978 -0.471590   \n",
      "1 -0.246183  0.025878 -0.112406  ... -0.045356  0.509769 -0.697175 -0.842669   \n",
      "2 -0.230247  0.175175 -0.194826  ...  0.098655  0.602729 -1.330887 -0.706854   \n",
      "3 -0.394521  0.152196 -0.046110  ... -0.091106  1.071360 -1.014785 -0.544273   \n",
      "4 -0.232057  0.505275  0.104445  ...  0.271129  0.673996 -1.354752 -0.386139   \n",
      "\n",
      "         95        96        97        98        99  malicious  \n",
      "0 -0.868429 -0.322551 -0.135508  0.748223 -0.366252          0  \n",
      "1 -0.864741 -0.384667 -0.024352  0.329198 -0.473257          0  \n",
      "2 -0.693092 -0.393935 -0.133243  0.388248 -0.567130          0  \n",
      "3 -0.944795 -0.280997 -0.131779  0.266461 -0.409638          0  \n",
      "4 -0.331036 -0.258153 -0.066901  0.506459 -0.612665          0  \n",
      "\n",
      "[5 rows x 102 columns]\n",
      "(49855, 102)\n",
      "(49855, 100)\n",
      "(49855,)\n",
      "   Unnamed: 0         0         1         2         3         4         5  \\\n",
      "0           0  0.445820 -0.123503 -0.289709 -2.151014  1.263296 -0.048922   \n",
      "1           1  0.457563 -0.135144  0.033713 -1.129095  1.012008 -0.202199   \n",
      "2           2  0.572024 -0.368143 -0.053532 -1.248133  1.034119 -0.178993   \n",
      "3           3  1.072881 -0.164865 -0.275951 -1.642728  1.253941 -0.093629   \n",
      "4           4  0.505563 -0.872644 -0.027981 -1.160673  1.126776 -0.305370   \n",
      "\n",
      "          6         7         8  ...       247       248       249       250  \\\n",
      "0  0.920342 -0.610958 -0.592737  ... -0.906567 -0.389932 -0.639405 -0.054834   \n",
      "1  0.214150 -0.400648 -0.657339  ... -0.363267  0.047792 -0.773215  0.148211   \n",
      "2  0.441330 -0.360127 -0.529697  ... -0.698505 -0.072325 -0.728389  0.195214   \n",
      "3  0.725766 -0.570796 -0.350691  ... -0.492517 -0.110421 -0.795677  0.134280   \n",
      "4  1.259072 -0.685634 -1.017762  ... -0.481017 -0.583419 -0.831053 -0.161895   \n",
      "\n",
      "        251       252       253       254       255  malicious  \n",
      "0  0.066898  1.271155 -0.447033 -0.668399 -0.280854          0  \n",
      "1  0.081096  0.553094 -0.170367 -0.214069 -0.144130          0  \n",
      "2  0.080621  0.915165 -0.264042 -0.356280 -0.178309          0  \n",
      "3 -0.208407  1.255482 -0.008325 -0.698595  0.003875          0  \n",
      "4 -0.239597  0.597338  0.144297 -0.138526 -0.105681          0  \n",
      "\n",
      "[5 rows x 258 columns]\n",
      "(49855, 258)\n",
      "(49855, 256)\n",
      "(49855,)\n",
      "   Unnamed: 0         0         1         2         3         4         5  \\\n",
      "0           0  0.968921 -0.277046  0.115927  1.098992  0.434767  1.022773   \n",
      "1           1  0.639555 -0.038405  0.123885  0.836355  0.455531  0.984223   \n",
      "2           2  0.801795 -0.102020  0.123883  0.861587  0.531731  1.029143   \n",
      "3           3  0.885133 -0.073604  0.352201  0.971550  0.735378  1.186283   \n",
      "4           4  0.656816 -0.084735  0.041323  0.482103  0.709401  0.763796   \n",
      "\n",
      "          6         7         8  ...       503       504       505       506  \\\n",
      "0 -0.363532 -0.269210  0.315056  ... -0.278127  0.326638 -0.101552 -0.312328   \n",
      "1 -0.146816 -0.035674  0.025749  ... -0.148987 -0.238611 -0.169958 -0.037385   \n",
      "2 -0.284021 -0.040599  0.179249  ... -0.174290 -0.107536 -0.167916 -0.180058   \n",
      "3 -0.343514  0.017877  0.227350  ... -0.429743  0.004601  0.058022 -0.075489   \n",
      "4 -0.711738 -0.142368  0.179922  ...  0.218381 -0.049371 -0.327706 -0.269732   \n",
      "\n",
      "        507       508       509       510       511  malicious  \n",
      "0 -0.009684 -0.665316 -0.695258 -0.522305 -0.549568          0  \n",
      "1 -0.233037 -0.381744 -0.283310 -0.254510 -0.022850          0  \n",
      "2 -0.192978 -0.561653 -0.425256 -0.391301 -0.174231          0  \n",
      "3 -0.118526 -0.588596 -0.369798 -0.577415 -0.327923          0  \n",
      "4 -0.045188 -0.483830 -0.420572 -0.397304 -0.857946          0  \n",
      "\n",
      "[5 rows x 514 columns]\n",
      "(49855, 514)\n",
      "(49855, 512)\n",
      "(49855,)\n",
      "test\n",
      "   Unnamed: 0         0         1         2         3         4         5  \\\n",
      "0           0  1.144751 -0.325422  0.805139 -0.171583 -0.055823 -0.382472   \n",
      "1           1  0.277996 -0.605951  0.605104  0.457913  0.262875  0.127421   \n",
      "2           2  0.622970 -0.851497  0.709143 -0.114084  0.556340  0.121159   \n",
      "3           3  0.780384  0.207414  0.256673 -0.411496 -0.538764 -0.159162   \n",
      "4           4  0.559261 -0.627112  0.786127 -0.238836  0.488380 -0.014098   \n",
      "\n",
      "          6         7         8  ...        91        92        93        94  \\\n",
      "0 -0.495270 -0.245462 -0.052163  ... -0.177908  0.640259 -1.212480 -0.615544   \n",
      "1 -0.347810  0.495566  0.018852  ...  0.246082  0.570246 -1.124382 -0.636010   \n",
      "2 -0.054058  0.528005 -0.097083  ...  0.449162  0.463845 -0.937136 -0.891611   \n",
      "3  0.216276 -0.765957 -0.474513  ... -1.070302  1.180693  0.977572 -0.870093   \n",
      "4 -0.284486  0.528116  0.036488  ...  0.245589  0.760234 -1.117625 -0.745082   \n",
      "\n",
      "         95        96        97        98        99  malicious  \n",
      "0 -0.915801 -0.255229  0.065757  0.660179 -0.315918          0  \n",
      "1 -0.495632 -0.286583  0.020919  0.610496 -0.552188          0  \n",
      "2 -0.496289 -0.467551 -0.157829  0.519658 -0.657028          0  \n",
      "3 -1.334031  0.864085 -0.130026 -1.027580 -0.654846          0  \n",
      "4 -0.789433 -0.369745 -0.248793  0.000592 -0.678312          0  \n",
      "\n",
      "[5 rows x 102 columns]\n",
      "(23265, 102)\n",
      "(23265, 100)\n",
      "(23265,)\n",
      "   Unnamed: 0         0         1         2         3         4         5  \\\n",
      "0           0  0.175227 -0.073106 -0.072231 -1.542162  1.030266 -0.118642   \n",
      "1           1  0.372779 -0.641280 -0.139054 -1.105570  1.123705 -0.248175   \n",
      "2           2  0.892336 -0.790663 -0.031154 -0.923513  1.030069 -0.373482   \n",
      "3           3  0.349169 -0.177236  0.282718  0.659199  0.542739 -0.066495   \n",
      "4           4  0.978762 -0.683620 -0.182925 -1.193695  1.092822 -0.072732   \n",
      "\n",
      "          6         7         8  ...       247       248       249       250  \\\n",
      "0  0.595119 -0.474714 -0.697928  ... -0.616237 -0.199791 -0.692468 -0.107440   \n",
      "1  1.003747 -0.789465 -0.792731  ... -0.547154 -0.358171 -0.857085 -0.181375   \n",
      "2  0.478467 -0.459959 -0.707216  ... -0.442521 -0.108679 -0.869150  0.065815   \n",
      "3 -0.028681 -0.074555  0.286841  ...  0.287870  0.593589 -1.221641  0.405073   \n",
      "4  0.746556 -0.604642 -0.493844  ... -0.584480 -0.152620 -0.683262  0.051764   \n",
      "\n",
      "        251       252       253       254       255  malicious  \n",
      "0  0.234602  0.754867 -0.413447 -0.400997 -0.386601          0  \n",
      "1 -0.000957  0.620581  0.070813 -0.125094 -0.078555          0  \n",
      "2 -0.202555  0.692754  0.383433 -0.027637  0.164916          0  \n",
      "3  0.259174  0.322915  0.287908 -0.055761 -0.169139          0  \n",
      "4 -0.080568  0.839037  0.304723 -0.412736 -0.017667          0  \n",
      "\n",
      "[5 rows x 258 columns]\n",
      "(23265, 258)\n",
      "(23265, 256)\n",
      "(23265,)\n",
      "   Unnamed: 0         0         1         2         3         4         5  \\\n",
      "0           0  0.658939 -0.234586  0.081151  0.947106  0.262406  0.863137   \n",
      "1           1  0.589573 -0.152281  0.203945  0.496282  0.581548  0.702354   \n",
      "2           2  0.696474 -0.022092  0.060688  0.607995  0.743410  1.278424   \n",
      "3           3 -0.332185  0.015795  0.741523  0.666128  0.396941  0.201374   \n",
      "4           4  0.821908 -0.105683  0.227508  0.721180  0.847967  1.076041   \n",
      "\n",
      "          6         7         8  ...       503       504       505       506  \\\n",
      "0 -0.128245 -0.241124  0.212555  ... -0.186167  0.079548 -0.157632 -0.110638   \n",
      "1 -0.643707 -0.152507  0.133964  ...  0.128064 -0.036813 -0.243723 -0.133245   \n",
      "2 -0.573218  0.175216 -0.008046  ... -0.010437 -0.074517 -0.349028 -0.191121   \n",
      "3 -0.119939  0.055832  0.093728  ...  0.035792 -0.931185  0.249824  0.356766   \n",
      "4 -0.658984  0.015820  0.093799  ... -0.107034 -0.216847 -0.126769 -0.110207   \n",
      "\n",
      "        507       508       509       510       511  malicious  \n",
      "0 -0.196902 -0.393191 -0.413183 -0.237719 -0.268227          0  \n",
      "1 -0.190552 -0.546748 -0.525172 -0.338008 -0.720661          0  \n",
      "2 -0.077336 -0.579016 -0.358410 -0.652214 -0.489654          0  \n",
      "3 -0.294208  0.042997  0.478693  0.446012  0.804290          0  \n",
      "4 -0.011975 -0.635643 -0.453941 -0.631826 -0.412490          0  \n",
      "\n",
      "[5 rows x 514 columns]\n",
      "(23265, 514)\n",
      "(23265, 512)\n",
      "(23265,)\n",
      "val\n",
      "   Unnamed: 0         0         1         2         3         4         5  \\\n",
      "0           0  1.101779 -0.521409  0.872949 -0.145176  0.136908 -0.316455   \n",
      "1           1  0.400542 -0.694048  0.531588  0.374221  0.356199 -0.011254   \n",
      "2           2  0.197713 -0.551200  0.996389 -0.267996  0.364637 -0.243228   \n",
      "3           3  0.849629 -0.912303  0.948700 -0.354278  0.540684 -0.148943   \n",
      "4           4  0.794036  0.197596  0.271177 -0.428661 -0.531726 -0.167353   \n",
      "\n",
      "          6         7         8  ...        91        92        93        94  \\\n",
      "0 -0.472292  0.047524 -0.012949  ... -0.119190  0.797728 -1.839413 -0.611652   \n",
      "1 -0.372138  0.506130  0.080917  ...  0.288769  0.561518 -1.482118 -0.455025   \n",
      "2 -0.586653  0.200245  0.288250  ...  0.405002  0.764719 -0.490768 -0.592147   \n",
      "3 -0.204620  0.561784 -0.082087  ...  0.200106  0.627292 -1.493155 -0.798377   \n",
      "4  0.235669 -0.758124 -0.455285  ... -1.074829  1.179731  0.978711 -0.886117   \n",
      "\n",
      "         95        96        97        98        99  malicious  \n",
      "0 -0.934924 -0.272871 -0.035959  0.689421 -0.430010          0  \n",
      "1 -0.388464 -0.357381 -0.040432  0.574038 -0.543181          0  \n",
      "2 -0.494401 -0.730621 -0.392936  0.311078 -0.228494          0  \n",
      "3 -0.738849 -0.481761 -0.058967  0.491042 -0.680846          0  \n",
      "4 -1.331223  0.889562 -0.127886 -1.036676 -0.649211          0  \n",
      "\n",
      "[5 rows x 102 columns]\n",
      "(9972, 102)\n",
      "(9972, 100)\n",
      "(9972,)\n",
      "   Unnamed: 0         0         1         2         3         4         5  \\\n",
      "0           0  0.336276 -0.233785 -0.201367 -1.939738  1.219075 -0.039879   \n",
      "1           1  0.434397 -0.756419 -0.077707 -1.332912  1.125248 -0.336773   \n",
      "2           2  0.890486 -0.357459 -0.155801 -1.339222  0.857262 -0.132266   \n",
      "3           3  0.799839 -0.451490 -0.210907 -1.690502  1.380785 -0.219968   \n",
      "4           4  0.352443 -0.166770  0.306773  0.676207  0.556851 -0.067874   \n",
      "\n",
      "          6         7         8  ...       247       248       249       250  \\\n",
      "0  0.794644 -0.487556 -0.641141  ... -0.801105 -0.313049 -0.690579 -0.082983   \n",
      "1  1.112266 -0.670612 -0.939617  ... -0.600604 -0.484017 -0.799600 -0.170082   \n",
      "2  0.667307 -1.202436 -0.849915  ... -0.480457 -0.151803 -0.623709 -0.010705   \n",
      "3  0.514579 -0.495981 -0.618111  ... -0.646619 -0.172084 -0.852082  0.121561   \n",
      "4 -0.022685 -0.057377  0.276696  ...  0.284505  0.602406 -1.221956  0.427348   \n",
      "\n",
      "        251       252       253       254       255  malicious  \n",
      "0  0.162527  1.051469 -0.314538 -0.591631 -0.276871          0  \n",
      "1 -0.089952  0.617102 -0.028792 -0.138974 -0.174663          0  \n",
      "2 -0.144424  0.706762 -0.092192 -0.166061 -0.000640          0  \n",
      "3 -0.105201  1.065568  0.049692 -0.501584  0.030046          0  \n",
      "4  0.244707  0.310825  0.279675 -0.055311 -0.162634          0  \n",
      "\n",
      "[5 rows x 258 columns]\n",
      "(9972, 258)\n",
      "(9972, 256)\n",
      "(9972,)\n",
      "   Unnamed: 0         0         1         2         3         4         5  \\\n",
      "0           0  0.899506 -0.352184  0.070675  1.087464  0.388255  1.051635   \n",
      "1           1  0.693359 -0.132387  0.039193  0.611372  0.587781  0.846109   \n",
      "2           2  0.598036  0.246320  0.339363  0.578134  0.746237  0.870514   \n",
      "3           3  1.080523 -0.148385  0.099384  0.912360  0.780907  1.301709   \n",
      "4           4 -0.338885  0.021189  0.743002  0.653172  0.395543  0.207352   \n",
      "\n",
      "          6         7         8  ...       503       504       505       506  \\\n",
      "0 -0.331986 -0.266507  0.259498  ... -0.219073  0.239550 -0.144285 -0.265001   \n",
      "1 -0.602799 -0.156540  0.159160  ...  0.141839  0.066907 -0.282125 -0.248084   \n",
      "2 -0.549014  0.021188  0.101614  ...  0.007756 -0.428453 -0.102671  0.133467   \n",
      "3 -0.471059  0.016015  0.103880  ... -0.295763 -0.007432 -0.152233 -0.237973   \n",
      "4 -0.106011  0.058604  0.083318  ...  0.027394 -0.934236  0.233461  0.351249   \n",
      "\n",
      "        507       508       509       510       511  malicious  \n",
      "0 -0.043993 -0.567063 -0.643132 -0.433266 -0.454134          0  \n",
      "1 -0.029587 -0.554695 -0.471191 -0.455557 -0.775419          0  \n",
      "2 -0.226898 -0.613279 -0.472616 -0.515971 -0.467429          0  \n",
      "3 -0.084003 -0.670961 -0.580797 -0.661292 -0.379874          0  \n",
      "4 -0.305549  0.014179  0.475178  0.469381  0.801700          0  \n",
      "\n",
      "[5 rows x 514 columns]\n",
      "(9972, 514)\n",
      "(9972, 512)\n",
      "(9972,)\n"
     ]
    }
   ],
   "source": [
    "def df_xy(df, target=\"malicious\"):\n",
    "    if target not in df.columns:\n",
    "        raise ValueError(f\"Target column '{target}' not found in DataFrame.\")\n",
    "    \n",
    "    print(df.head())\n",
    "\n",
    "    X = df.drop(columns=[\"Unnamed: 0\", target])\n",
    "    y = df[target]\n",
    "\n",
    "    print(df.shape)\n",
    "    print(X.shape)\n",
    "    print(y.shape)\n",
    "\n",
    "    return X,y\n",
    "\n",
    "print(\"train\")\n",
    "X_train_100, y_train_100 = df_xy(dataframes.get(\"df_train_100\"))\n",
    "X_train_256, y_train_256 = df_xy(dataframes.get(\"df_train_256\"))\n",
    "X_train_512, y_train_512 = df_xy(dataframes.get(\"df_train_512\"))\n",
    "\n",
    "print(\"test\")\n",
    "X_test_100, y_test_100 = df_xy(dataframes.get(\"df_test_100\"))\n",
    "X_test_256, y_test_256 = df_xy(dataframes.get(\"df_test_256\"))\n",
    "X_test_512, y_test_512 = df_xy(dataframes.get(\"df_test_512\"))\n",
    "\n",
    "print(\"val\")\n",
    "X_val_100, y_val_100 = df_xy(dataframes.get(\"df_val_100\"))\n",
    "X_val_256, y_val_256 = df_xy(dataframes.get(\"df_val_256\"))\n",
    "X_val_512, y_val_512 = df_xy(dataframes.get(\"df_val_512\"))"
   ]
  },
  {
   "cell_type": "markdown",
   "metadata": {},
   "source": [
    "# LightGBM on vectorized datasets"
   ]
  },
  {
   "cell_type": "code",
   "execution_count": 40,
   "metadata": {},
   "outputs": [
    {
     "data": {
      "text/plain": [
       "'\\n\\n    skf = StratifiedKFold(n_splits=5)\\n\\n    model = lgb.train(\\n        params,\\n        train_data,\\n        #cv=skf,\\n        valid_sets=[val_data],\\n        valid_names=[\\'validation\\'],\\n        num_boost_round=100,\\n    )\\n\\n    #y_val_pred = model.predict(X_val)\\n    #score = roc_auc_score(y_val, y_val_pred)\\n\\n    y_val_pred_proba = model.predict(X_val)\\n    y_val_pred = (y_val_pred_proba > 0.5).astype(int)\\n\\n    mean_avg_precision = average_precision_score(y_val, y_val_pred_proba)\\n    precision = precision_score(y_val, y_val_pred)\\n    recall = recall_score(y_val, y_val_pred)\\n    f1 = f1_score(y_val, y_val_pred)\\n\\n    print(\"mean avg precision:\")\\n    print(mean_avg_precision)\\n\\n    print(\"precision:\")\\n    print(precision)\\n\\n    print(\"recall:\")\\n    print(recall)\\n\\n    print(\"f1:\")\\n    print(f1)\\n\\n    return f1_score(y_val, y_val_pred)\\n'"
      ]
     },
     "execution_count": 40,
     "metadata": {},
     "output_type": "execute_result"
    }
   ],
   "source": [
    "#optuna searching\n",
    "from sklearn.model_selection import StratifiedKFold\n",
    "\n",
    "X_train = None \n",
    "y_train = None\n",
    "X_test = None\n",
    "y_test = None\n",
    "X_val = None\n",
    "y_val = None\n",
    "\n",
    "def df_set_100():\n",
    "    return (X_train_100, y_train_100, X_val_100, y_val_100, X_test_100, y_test_100)\n",
    "\n",
    "def df_set_256():\n",
    "    return (X_train_256, y_train_256, X_val_256, y_val_256, X_test_256, y_test_256)\n",
    "\n",
    "def df_set_512():\n",
    "    return (X_train_512, y_train_512, X_val_512, y_val_512, X_test_512, y_test_512)\n",
    "\n",
    "optuna.logging.set_verbosity(optuna.logging.ERROR)\n",
    "\n",
    "def objective(trial, data_func):\n",
    "\n",
    "    X, y, X_val, y_val = data_func()[0:4]\n",
    "\n",
    "    seed = 42\n",
    "    np.random.seed(seed)\n",
    "    random.seed(seed)\n",
    "\n",
    "    params = {\n",
    "        'objective': 'binary', \n",
    "        'metric': 'f1',\n",
    "        'boosting_type': 'gbdt', \n",
    "        'verbose': -1,\n",
    "        'seed': seed,\n",
    "        'learning_rate': trial.suggest_float('learning_rate', 0.01, 0.2),\n",
    "        'min_child_samples': trial.suggest_int('min_child_samples', 10, 50),\n",
    "        'num_leaves': trial.suggest_int('num_leaves', 2, 150),\n",
    "        'max_depth': trial.suggest_int('max_depth', 1, 15),\n",
    "        'feature_fraction': trial.suggest_float('feature_fraction', 0.2, 1),\n",
    "        'lambda_l1': trial.suggest_float('lambda_l1', 1e-8, 10),\n",
    "        'lambda_l2': trial.suggest_float('lambda_l2', 1e-8, 10),\n",
    "    }\n",
    "\n",
    "    n_splits = 5\n",
    "    skf = StratifiedKFold(n_splits=n_splits, shuffle=True, random_state=42)\n",
    "    f1_scores = []\n",
    "\n",
    "    for fold, (train_idx, valid_idx) in enumerate(skf.split(X, y)):\n",
    "        print(f\"Fold {fold + 1}/{n_splits}\")\n",
    "\n",
    "        X_train, X_valid = X.iloc[train_idx], X.iloc[valid_idx]\n",
    "        y_train, y_valid = y.iloc[train_idx], y.iloc[valid_idx]\n",
    "        \n",
    "        train_data = lgb.Dataset(X_train, label=y_train)\n",
    "        valid_data = lgb.Dataset(X_valid, label=y_valid)\n",
    "        \n",
    "        model = lgb.train(\n",
    "            params,\n",
    "            train_data,\n",
    "            valid_sets=[train_data, valid_data],\n",
    "            valid_names=['train', 'valid'],\n",
    "            num_boost_round=100,\n",
    "        )\n",
    "        \n",
    "        y_val_pred_proba = model.predict(X_valid)\n",
    "        y_val_pred= (y_val_pred_proba > 0.5).astype(int)\n",
    "        \n",
    "        f1 = f1_score(y_valid, y_val_pred)\n",
    "        f1_scores.append(f1)\n",
    "        #print(f\"F1 {fold + 1}: {f1:.4f}\")\n",
    "\n",
    "    #print(np.average(f1_scores))\n",
    "    return(np.average(f1_scores))\n",
    "\n",
    "'''\n",
    "\n",
    "    skf = StratifiedKFold(n_splits=5)\n",
    "\n",
    "    model = lgb.train(\n",
    "        params,\n",
    "        train_data,\n",
    "        #cv=skf,\n",
    "        valid_sets=[val_data],\n",
    "        valid_names=['validation'],\n",
    "        num_boost_round=100,\n",
    "    )\n",
    "\n",
    "    #y_val_pred = model.predict(X_val)\n",
    "    #score = roc_auc_score(y_val, y_val_pred)\n",
    "\n",
    "    y_val_pred_proba = model.predict(X_val)\n",
    "    y_val_pred = (y_val_pred_proba > 0.5).astype(int)\n",
    "\n",
    "    mean_avg_precision = average_precision_score(y_val, y_val_pred_proba)\n",
    "    precision = precision_score(y_val, y_val_pred)\n",
    "    recall = recall_score(y_val, y_val_pred)\n",
    "    f1 = f1_score(y_val, y_val_pred)\n",
    "\n",
    "    print(\"mean avg precision:\")\n",
    "    print(mean_avg_precision)\n",
    "\n",
    "    print(\"precision:\")\n",
    "    print(precision)\n",
    "\n",
    "    print(\"recall:\")\n",
    "    print(recall)\n",
    "\n",
    "    print(\"f1:\")\n",
    "    print(f1)\n",
    "\n",
    "    return f1_score(y_val, y_val_pred)\n",
    "'''\n"
   ]
  },
  {
   "cell_type": "code",
   "execution_count": 41,
   "metadata": {},
   "outputs": [
    {
     "name": "stdout",
     "output_type": "stream",
     "text": [
      "Fold 1/5\n",
      "Fold 2/5\n",
      "Fold 3/5\n",
      "Fold 4/5\n",
      "Fold 5/5\n",
      "Fold 1/5\n",
      "Fold 2/5\n",
      "Fold 3/5\n",
      "Fold 4/5\n",
      "Fold 5/5\n",
      "Fold 1/5\n",
      "Fold 2/5\n",
      "Fold 3/5\n",
      "Fold 4/5\n",
      "Fold 5/5\n",
      "Fold 1/5\n",
      "Fold 2/5\n",
      "Fold 3/5\n",
      "Fold 4/5\n",
      "Fold 5/5\n",
      "Fold 1/5\n",
      "Fold 2/5\n",
      "Fold 3/5\n",
      "Fold 4/5\n",
      "Fold 5/5\n",
      "Fold 1/5\n",
      "Fold 2/5\n",
      "Fold 3/5\n",
      "Fold 4/5\n",
      "Fold 5/5\n",
      "Fold 1/5\n",
      "Fold 2/5\n",
      "Fold 3/5\n",
      "Fold 4/5\n",
      "Fold 5/5\n",
      "Fold 1/5\n",
      "Fold 2/5\n",
      "Fold 3/5\n",
      "Fold 4/5\n",
      "Fold 5/5\n",
      "Fold 1/5\n",
      "Fold 2/5\n",
      "Fold 3/5\n",
      "Fold 4/5\n",
      "Fold 5/5\n",
      "Fold 1/5\n",
      "Fold 2/5\n",
      "Fold 3/5\n",
      "Fold 4/5\n",
      "Fold 5/5\n",
      "Fold 1/5\n",
      "Fold 2/5\n",
      "Fold 3/5\n",
      "Fold 4/5\n",
      "Fold 5/5\n",
      "Fold 1/5\n",
      "Fold 2/5\n",
      "Fold 3/5\n",
      "Fold 4/5\n",
      "Fold 5/5\n",
      "Fold 1/5\n",
      "Fold 2/5\n",
      "Fold 3/5\n",
      "Fold 4/5\n",
      "Fold 5/5\n",
      "Fold 1/5\n",
      "Fold 2/5\n",
      "Fold 3/5\n",
      "Fold 4/5\n",
      "Fold 5/5\n",
      "Fold 1/5\n",
      "Fold 2/5\n",
      "Fold 3/5\n",
      "Fold 4/5\n",
      "Fold 5/5\n",
      "Fold 1/5\n",
      "Fold 2/5\n",
      "Fold 3/5\n",
      "Fold 4/5\n",
      "Fold 5/5\n",
      "Fold 1/5\n",
      "Fold 2/5\n",
      "Fold 3/5\n",
      "Fold 4/5\n",
      "Fold 5/5\n",
      "Fold 1/5\n",
      "Fold 2/5\n",
      "Fold 3/5\n",
      "Fold 4/5\n",
      "Fold 5/5\n",
      "Fold 1/5\n",
      "Fold 2/5\n",
      "Fold 3/5\n",
      "Fold 4/5\n",
      "Fold 5/5\n",
      "Fold 1/5\n",
      "Fold 2/5\n",
      "Fold 3/5\n",
      "Fold 4/5\n",
      "Fold 5/5\n",
      "Fold 1/5\n",
      "Fold 2/5\n",
      "Fold 3/5\n",
      "Fold 4/5\n",
      "Fold 5/5\n",
      "Fold 1/5\n",
      "Fold 2/5\n",
      "Fold 3/5\n",
      "Fold 4/5\n",
      "Fold 5/5\n",
      "Fold 1/5\n",
      "Fold 2/5\n",
      "Fold 3/5\n",
      "Fold 4/5\n",
      "Fold 5/5\n",
      "Fold 1/5\n",
      "Fold 2/5\n",
      "Fold 3/5\n",
      "Fold 4/5\n",
      "Fold 5/5\n",
      "Fold 1/5\n",
      "Fold 2/5\n",
      "Fold 3/5\n",
      "Fold 4/5\n",
      "Fold 5/5\n",
      "Fold 1/5\n",
      "Fold 2/5\n",
      "Fold 3/5\n",
      "Fold 4/5\n",
      "Fold 5/5\n",
      "Fold 1/5\n",
      "Fold 2/5\n",
      "Fold 3/5\n",
      "Fold 4/5\n",
      "Fold 5/5\n",
      "Fold 1/5\n",
      "Fold 2/5\n",
      "Fold 3/5\n",
      "Fold 4/5\n",
      "Fold 5/5\n",
      "Fold 1/5\n",
      "Fold 2/5\n",
      "Fold 3/5\n",
      "Fold 4/5\n",
      "Fold 5/5\n",
      "Fold 1/5\n",
      "Fold 2/5\n",
      "Fold 3/5\n",
      "Fold 4/5\n",
      "Fold 5/5\n",
      "Fold 1/5\n",
      "Fold 2/5\n",
      "Fold 3/5\n",
      "Fold 4/5\n",
      "Fold 5/5\n",
      "Fold 1/5\n",
      "Fold 2/5\n",
      "Fold 3/5\n",
      "Fold 4/5\n",
      "Fold 5/5\n",
      "Fold 1/5\n",
      "Fold 2/5\n",
      "Fold 3/5\n",
      "Fold 4/5\n",
      "Fold 5/5\n",
      "Fold 1/5\n",
      "Fold 2/5\n",
      "Fold 3/5\n",
      "Fold 4/5\n",
      "Fold 5/5\n",
      "Fold 1/5\n",
      "Fold 2/5\n",
      "Fold 3/5\n",
      "Fold 4/5\n",
      "Fold 5/5\n",
      "Fold 1/5\n",
      "Fold 2/5\n",
      "Fold 3/5\n",
      "Fold 4/5\n",
      "Fold 5/5\n",
      "Fold 1/5\n",
      "Fold 2/5\n",
      "Fold 3/5\n",
      "Fold 4/5\n",
      "Fold 5/5\n",
      "Fold 1/5\n",
      "Fold 2/5\n",
      "Fold 3/5\n",
      "Fold 4/5\n",
      "Fold 5/5\n",
      "Fold 1/5\n",
      "Fold 2/5\n",
      "Fold 3/5\n",
      "Fold 4/5\n",
      "Fold 5/5\n",
      "Fold 1/5\n",
      "Fold 2/5\n",
      "Fold 3/5\n",
      "Fold 4/5\n",
      "Fold 5/5\n",
      "Fold 1/5\n",
      "Fold 2/5\n",
      "Fold 3/5\n",
      "Fold 4/5\n",
      "Fold 5/5\n",
      "Fold 1/5\n",
      "Fold 2/5\n",
      "Fold 3/5\n",
      "Fold 4/5\n",
      "Fold 5/5\n",
      "Fold 1/5\n",
      "Fold 2/5\n",
      "Fold 3/5\n",
      "Fold 4/5\n",
      "Fold 5/5\n",
      "Fold 1/5\n",
      "Fold 2/5\n",
      "Fold 3/5\n",
      "Fold 4/5\n",
      "Fold 5/5\n",
      "Fold 1/5\n",
      "Fold 2/5\n",
      "Fold 3/5\n",
      "Fold 4/5\n",
      "Fold 5/5\n",
      "Fold 1/5\n",
      "Fold 2/5\n",
      "Fold 3/5\n",
      "Fold 4/5\n",
      "Fold 5/5\n",
      "Fold 1/5\n",
      "Fold 2/5\n",
      "Fold 3/5\n",
      "Fold 4/5\n",
      "Fold 5/5\n",
      "Fold 1/5\n",
      "Fold 2/5\n",
      "Fold 3/5\n",
      "Fold 4/5\n",
      "Fold 5/5\n",
      "Fold 1/5\n",
      "Fold 2/5\n",
      "Fold 3/5\n",
      "Fold 4/5\n",
      "Fold 5/5\n",
      "Fold 1/5\n",
      "Fold 2/5\n",
      "Fold 3/5\n",
      "Fold 4/5\n",
      "Fold 5/5\n",
      "Fold 1/5\n",
      "Fold 2/5\n",
      "Fold 3/5\n",
      "Fold 4/5\n",
      "Fold 5/5\n",
      "Fold 1/5\n",
      "Fold 2/5\n",
      "Fold 3/5\n",
      "Fold 4/5\n",
      "Fold 5/5\n",
      "Fold 1/5\n",
      "Fold 2/5\n",
      "Fold 3/5\n",
      "Fold 4/5\n",
      "Fold 5/5\n",
      "Fold 1/5\n",
      "Fold 2/5\n",
      "Fold 3/5\n",
      "Fold 4/5\n",
      "Fold 5/5\n",
      "Fold 1/5\n",
      "Fold 2/5\n",
      "Fold 3/5\n",
      "Fold 4/5\n",
      "Fold 5/5\n",
      "Fold 1/5\n",
      "Fold 2/5\n",
      "Fold 3/5\n",
      "Fold 4/5\n",
      "Fold 5/5\n",
      "Fold 1/5\n",
      "Fold 2/5\n",
      "Fold 3/5\n",
      "Fold 4/5\n",
      "Fold 5/5\n",
      "Fold 1/5\n",
      "Fold 2/5\n",
      "Fold 3/5\n",
      "Fold 4/5\n",
      "Fold 5/5\n",
      "Fold 1/5\n",
      "Fold 2/5\n",
      "Fold 3/5\n",
      "Fold 4/5\n",
      "Fold 5/5\n",
      "Fold 1/5\n",
      "Fold 2/5\n",
      "Fold 3/5\n",
      "Fold 4/5\n",
      "Fold 5/5\n",
      "Fold 1/5\n",
      "Fold 2/5\n",
      "Fold 3/5\n",
      "Fold 4/5\n",
      "Fold 5/5\n",
      "Fold 1/5\n",
      "Fold 2/5\n",
      "Fold 3/5\n",
      "Fold 4/5\n",
      "Fold 5/5\n",
      "Fold 1/5\n",
      "Fold 2/5\n",
      "Fold 3/5\n",
      "Fold 4/5\n",
      "Fold 5/5\n",
      "Fold 1/5\n",
      "Fold 2/5\n",
      "Fold 3/5\n",
      "Fold 4/5\n",
      "Fold 5/5\n",
      "Fold 1/5\n",
      "Fold 2/5\n",
      "Fold 3/5\n",
      "Fold 4/5\n",
      "Fold 5/5\n",
      "Fold 1/5\n",
      "Fold 2/5\n",
      "Fold 3/5\n",
      "Fold 4/5\n",
      "Fold 5/5\n",
      "Fold 1/5\n",
      "Fold 2/5\n",
      "Fold 3/5\n",
      "Fold 4/5\n",
      "Fold 5/5\n",
      "Fold 1/5\n",
      "Fold 2/5\n",
      "Fold 3/5\n",
      "Fold 4/5\n",
      "Fold 5/5\n",
      "Fold 1/5\n",
      "Fold 2/5\n",
      "Fold 3/5\n",
      "Fold 4/5\n",
      "Fold 5/5\n",
      "Fold 1/5\n",
      "Fold 2/5\n",
      "Fold 3/5\n",
      "Fold 4/5\n",
      "Fold 5/5\n",
      "Fold 1/5\n",
      "Fold 2/5\n",
      "Fold 3/5\n",
      "Fold 4/5\n",
      "Fold 5/5\n",
      "Fold 1/5\n",
      "Fold 2/5\n",
      "Fold 3/5\n",
      "Fold 4/5\n",
      "Fold 5/5\n",
      "Fold 1/5\n",
      "Fold 2/5\n",
      "Fold 3/5\n",
      "Fold 4/5\n",
      "Fold 5/5\n",
      "Fold 1/5\n",
      "Fold 2/5\n",
      "Fold 3/5\n",
      "Fold 4/5\n",
      "Fold 5/5\n",
      "Fold 1/5\n",
      "Fold 2/5\n",
      "Fold 3/5\n",
      "Fold 4/5\n",
      "Fold 5/5\n",
      "Fold 1/5\n",
      "Fold 2/5\n",
      "Fold 3/5\n",
      "Fold 4/5\n",
      "Fold 5/5\n",
      "Fold 1/5\n",
      "Fold 2/5\n",
      "Fold 3/5\n",
      "Fold 4/5\n",
      "Fold 5/5\n",
      "Fold 1/5\n",
      "Fold 2/5\n",
      "Fold 3/5\n",
      "Fold 4/5\n",
      "Fold 5/5\n",
      "Fold 1/5\n",
      "Fold 2/5\n",
      "Fold 3/5\n",
      "Fold 4/5\n",
      "Fold 5/5\n",
      "Fold 1/5\n",
      "Fold 2/5\n",
      "Fold 3/5\n",
      "Fold 4/5\n",
      "Fold 5/5\n",
      "Fold 1/5\n",
      "Fold 2/5\n",
      "Fold 3/5\n",
      "Fold 4/5\n",
      "Fold 5/5\n",
      "Fold 1/5\n",
      "Fold 2/5\n",
      "Fold 3/5\n",
      "Fold 4/5\n",
      "Fold 5/5\n",
      "Fold 1/5\n",
      "Fold 2/5\n",
      "Fold 3/5\n",
      "Fold 4/5\n",
      "Fold 5/5\n",
      "Fold 1/5\n",
      "Fold 2/5\n",
      "Fold 3/5\n",
      "Fold 4/5\n",
      "Fold 5/5\n",
      "Fold 1/5\n",
      "Fold 2/5\n",
      "Fold 3/5\n",
      "Fold 4/5\n",
      "Fold 5/5\n",
      "Fold 1/5\n",
      "Fold 2/5\n",
      "Fold 3/5\n",
      "Fold 4/5\n",
      "Fold 5/5\n",
      "Fold 1/5\n",
      "Fold 2/5\n",
      "Fold 3/5\n",
      "Fold 4/5\n",
      "Fold 5/5\n",
      "Fold 1/5\n",
      "Fold 2/5\n",
      "Fold 3/5\n",
      "Fold 4/5\n",
      "Fold 5/5\n",
      "Fold 1/5\n",
      "Fold 2/5\n",
      "Fold 3/5\n",
      "Fold 4/5\n",
      "Fold 5/5\n",
      "Fold 1/5\n",
      "Fold 2/5\n",
      "Fold 3/5\n",
      "Fold 4/5\n",
      "Fold 5/5\n",
      "Fold 1/5\n",
      "Fold 2/5\n",
      "Fold 3/5\n",
      "Fold 4/5\n",
      "Fold 5/5\n",
      "Fold 1/5\n",
      "Fold 2/5\n",
      "Fold 3/5\n",
      "Fold 4/5\n",
      "Fold 5/5\n",
      "Fold 1/5\n",
      "Fold 2/5\n",
      "Fold 3/5\n",
      "Fold 4/5\n",
      "Fold 5/5\n",
      "Fold 1/5\n",
      "Fold 2/5\n",
      "Fold 3/5\n",
      "Fold 4/5\n",
      "Fold 5/5\n",
      "Fold 1/5\n",
      "Fold 2/5\n",
      "Fold 3/5\n",
      "Fold 4/5\n",
      "Fold 5/5\n",
      "Fold 1/5\n",
      "Fold 2/5\n",
      "Fold 3/5\n",
      "Fold 4/5\n",
      "Fold 5/5\n",
      "Fold 1/5\n",
      "Fold 2/5\n",
      "Fold 3/5\n",
      "Fold 4/5\n",
      "Fold 5/5\n",
      "Fold 1/5\n",
      "Fold 2/5\n",
      "Fold 3/5\n",
      "Fold 4/5\n",
      "Fold 5/5\n",
      "Fold 1/5\n",
      "Fold 2/5\n",
      "Fold 3/5\n",
      "Fold 4/5\n",
      "Fold 5/5\n",
      "Fold 1/5\n",
      "Fold 2/5\n",
      "Fold 3/5\n",
      "Fold 4/5\n",
      "Fold 5/5\n",
      "Fold 1/5\n",
      "Fold 2/5\n",
      "Fold 3/5\n",
      "Fold 4/5\n",
      "Fold 5/5\n",
      "Fold 1/5\n",
      "Fold 2/5\n",
      "Fold 3/5\n",
      "Fold 4/5\n",
      "Fold 5/5\n",
      "Fold 1/5\n",
      "Fold 2/5\n",
      "Fold 3/5\n",
      "Fold 4/5\n",
      "Fold 5/5\n",
      "Fold 1/5\n",
      "Fold 2/5\n",
      "Fold 3/5\n",
      "Fold 4/5\n",
      "Fold 5/5\n",
      "Fold 1/5\n",
      "Fold 2/5\n",
      "Fold 3/5\n",
      "Fold 4/5\n",
      "Fold 5/5\n",
      "Fold 1/5\n",
      "Fold 2/5\n",
      "Fold 3/5\n",
      "Fold 4/5\n",
      "Fold 5/5\n",
      "Fold 1/5\n",
      "Fold 2/5\n",
      "Fold 3/5\n",
      "Fold 4/5\n",
      "Fold 5/5\n",
      "Fold 1/5\n",
      "Fold 2/5\n",
      "Fold 3/5\n",
      "Fold 4/5\n",
      "Fold 5/5\n",
      "Fold 1/5\n",
      "Fold 2/5\n",
      "Fold 3/5\n",
      "Fold 4/5\n",
      "Fold 5/5\n",
      "Fold 1/5\n",
      "Fold 2/5\n",
      "Fold 3/5\n",
      "Fold 4/5\n",
      "Fold 5/5\n",
      "Fold 1/5\n",
      "Fold 2/5\n",
      "Fold 3/5\n",
      "Fold 4/5\n",
      "Fold 5/5\n",
      "Fold 1/5\n",
      "Fold 2/5\n",
      "Fold 3/5\n",
      "Fold 4/5\n",
      "Fold 5/5\n",
      "Fold 1/5\n",
      "Fold 2/5\n",
      "Fold 3/5\n",
      "Fold 4/5\n",
      "Fold 5/5\n",
      "Fold 1/5\n",
      "Fold 2/5\n",
      "Fold 3/5\n",
      "Fold 4/5\n",
      "Fold 5/5\n",
      "Fold 1/5\n",
      "Fold 2/5\n",
      "Fold 3/5\n",
      "Fold 4/5\n",
      "Fold 5/5\n",
      "Fold 1/5\n",
      "Fold 2/5\n",
      "Fold 3/5\n",
      "Fold 4/5\n",
      "Fold 5/5\n",
      "Fold 1/5\n",
      "Fold 2/5\n",
      "Fold 3/5\n",
      "Fold 4/5\n",
      "Fold 5/5\n",
      "Fold 1/5\n",
      "Fold 2/5\n",
      "Fold 3/5\n",
      "Fold 4/5\n",
      "Fold 5/5\n",
      "Fold 1/5\n",
      "Fold 2/5\n",
      "Fold 3/5\n",
      "Fold 4/5\n",
      "Fold 5/5\n",
      "Fold 1/5\n",
      "Fold 2/5\n",
      "Fold 3/5\n",
      "Fold 4/5\n",
      "Fold 5/5\n",
      "Fold 1/5\n",
      "Fold 2/5\n",
      "Fold 3/5\n",
      "Fold 4/5\n",
      "Fold 5/5\n",
      "Fold 1/5\n",
      "Fold 2/5\n",
      "Fold 3/5\n",
      "Fold 4/5\n",
      "Fold 5/5\n",
      "Fold 1/5\n",
      "Fold 2/5\n",
      "Fold 3/5\n",
      "Fold 4/5\n",
      "Fold 5/5\n",
      "Fold 1/5\n",
      "Fold 2/5\n",
      "Fold 3/5\n",
      "Fold 4/5\n",
      "Fold 5/5\n",
      "Fold 1/5\n",
      "Fold 2/5\n",
      "Fold 3/5\n",
      "Fold 4/5\n",
      "Fold 5/5\n",
      "Fold 1/5\n",
      "Fold 2/5\n",
      "Fold 3/5\n",
      "Fold 4/5\n",
      "Fold 5/5\n",
      "Fold 1/5\n",
      "Fold 2/5\n",
      "Fold 3/5\n",
      "Fold 4/5\n",
      "Fold 5/5\n",
      "Fold 1/5\n",
      "Fold 2/5\n",
      "Fold 3/5\n",
      "Fold 4/5\n",
      "Fold 5/5\n",
      "Fold 1/5\n",
      "Fold 2/5\n",
      "Fold 3/5\n",
      "Fold 4/5\n",
      "Fold 5/5\n",
      "Fold 1/5\n",
      "Fold 2/5\n",
      "Fold 3/5\n",
      "Fold 4/5\n",
      "Fold 5/5\n",
      "Fold 1/5\n",
      "Fold 2/5\n",
      "Fold 3/5\n",
      "Fold 4/5\n",
      "Fold 5/5\n",
      "Fold 1/5\n",
      "Fold 2/5\n",
      "Fold 3/5\n",
      "Fold 4/5\n",
      "Fold 5/5\n",
      "Fold 1/5\n",
      "Fold 2/5\n",
      "Fold 3/5\n",
      "Fold 4/5\n",
      "Fold 5/5\n",
      "Fold 1/5\n",
      "Fold 2/5\n",
      "Fold 3/5\n",
      "Fold 4/5\n",
      "Fold 5/5\n",
      "Fold 1/5\n",
      "Fold 2/5\n",
      "Fold 3/5\n",
      "Fold 4/5\n",
      "Fold 5/5\n",
      "Fold 1/5\n",
      "Fold 2/5\n",
      "Fold 3/5\n",
      "Fold 4/5\n",
      "Fold 5/5\n",
      "Fold 1/5\n",
      "Fold 2/5\n",
      "Fold 3/5\n",
      "Fold 4/5\n",
      "Fold 5/5\n",
      "Fold 1/5\n",
      "Fold 2/5\n",
      "Fold 3/5\n",
      "Fold 4/5\n",
      "Fold 5/5\n",
      "Fold 1/5\n",
      "Fold 2/5\n",
      "Fold 3/5\n",
      "Fold 4/5\n",
      "Fold 5/5\n",
      "Fold 1/5\n",
      "Fold 2/5\n",
      "Fold 3/5\n",
      "Fold 4/5\n",
      "Fold 5/5\n",
      "Fold 1/5\n",
      "Fold 2/5\n",
      "Fold 3/5\n",
      "Fold 4/5\n",
      "Fold 5/5\n",
      "Fold 1/5\n",
      "Fold 2/5\n",
      "Fold 3/5\n",
      "Fold 4/5\n",
      "Fold 5/5\n",
      "Fold 1/5\n",
      "Fold 2/5\n",
      "Fold 3/5\n",
      "Fold 4/5\n",
      "Fold 5/5\n",
      "Fold 1/5\n",
      "Fold 2/5\n",
      "Fold 3/5\n",
      "Fold 4/5\n",
      "Fold 5/5\n",
      "Fold 1/5\n",
      "Fold 2/5\n",
      "Fold 3/5\n",
      "Fold 4/5\n",
      "Fold 5/5\n",
      "Fold 1/5\n",
      "Fold 2/5\n",
      "Fold 3/5\n",
      "Fold 4/5\n",
      "Fold 5/5\n",
      "Fold 1/5\n",
      "Fold 2/5\n",
      "Fold 3/5\n",
      "Fold 4/5\n",
      "Fold 5/5\n",
      "Fold 1/5\n",
      "Fold 2/5\n",
      "Fold 3/5\n",
      "Fold 4/5\n",
      "Fold 5/5\n",
      "Fold 1/5\n",
      "Fold 2/5\n",
      "Fold 3/5\n",
      "Fold 4/5\n",
      "Fold 5/5\n",
      "Fold 1/5\n",
      "Fold 2/5\n",
      "Fold 3/5\n",
      "Fold 4/5\n",
      "Fold 5/5\n"
     ]
    }
   ],
   "source": [
    "# W2V 100 dimensions\n",
    "study100 = optuna.create_study(direction='maximize', sampler=optuna.samplers.TPESampler(seed=42))\n",
    "study100.optimize(lambda trial: objective(trial, df_set_100), n_trials=50)\n",
    "\n",
    "# W2V 256 dimensions\n",
    "study256 = optuna.create_study(direction='maximize', sampler=optuna.samplers.TPESampler(seed=42))\n",
    "study256.optimize(lambda trial: objective(trial, df_set_256), n_trials=50)\n",
    "\n",
    "# W2V 512 dimensions\n",
    "study512 = optuna.create_study(direction='maximize', sampler=optuna.samplers.TPESampler(seed=42))\n",
    "study512.optimize(lambda trial: objective(trial, df_set_512), n_trials=50)"
   ]
  },
  {
   "cell_type": "code",
   "execution_count": 42,
   "metadata": {},
   "outputs": [
    {
     "name": "stdout",
     "output_type": "stream",
     "text": [
      "Best Parameters for Dataset 100: {'learning_rate': 0.18447201425439289, 'min_child_samples': 39, 'num_leaves': 101, 'max_depth': 7, 'feature_fraction': 0.418217017928598, 'lambda_l1': 0.5539595324086912, 'lambda_l2': 8.606505196461567}\n",
      "Best Parameters for Dataset 256: {'learning_rate': 0.1869615886111391, 'min_child_samples': 27, 'num_leaves': 44, 'max_depth': 4, 'feature_fraction': 0.9541418553172145, 'lambda_l1': 0.026679622746134335, 'lambda_l2': 2.3910192536077552}\n",
      "Best Parameters for Dataset 512: {'learning_rate': 0.12852215627748992, 'min_child_samples': 42, 'num_leaves': 150, 'max_depth': 12, 'feature_fraction': 0.3617292153333157, 'lambda_l1': 0.2141614815783055, 'lambda_l2': 0.6107095412431937}\n"
     ]
    }
   ],
   "source": [
    "print(\"Best Parameters for Dataset 100:\", study100.best_params)\n",
    "print(\"Best Parameters for Dataset 256:\", study256.best_params)\n",
    "print(\"Best Parameters for Dataset 512:\", study512.best_params)"
   ]
  },
  {
   "cell_type": "code",
   "execution_count": 43,
   "metadata": {},
   "outputs": [],
   "source": [
    "def train_final_model(best_params, data_func):\n",
    "\n",
    "    X_train, y_train, X_val, y_val = data_func()[0:4]\n",
    "\n",
    "    final_params = best_params\n",
    "    final_params['objective'] = 'binary'\n",
    "    final_params['metric'] = 'f1'\n",
    "\n",
    "    train_data = lgb.Dataset(X_train, label=y_train)\n",
    "    val_data = lgb.Dataset(X_val, label=y_val, reference=train_data)\n",
    "\n",
    "    final_model = lgb.train(\n",
    "        final_params,\n",
    "        train_data,\n",
    "        valid_sets=[val_data],\n",
    "        num_boost_round=100,\n",
    "    )\n",
    "\n",
    "    y_val_pred_proba = final_model.predict(X_val)\n",
    "    y_val_pred = (y_val_pred_proba > 0.5).astype(int)\n",
    "\n",
    "    accuracy = accuracy_score(y_val, y_val_pred)\n",
    "    precision = precision_score(y_val, y_val_pred)\n",
    "    recall = recall_score(y_val, y_val_pred)\n",
    "    f1 = f1_score(y_val, y_val_pred)\n",
    "    roc_auc = roc_auc_score(y_val, y_val_pred_proba)\n",
    "\n",
    "    print(\"Training metrics\")\n",
    "    print(f\"Accuracy: {accuracy:.4f}\")\n",
    "    print(f\"Precision: {precision:.4f}\")\n",
    "    print(f\"Recall: {recall:.4f}\")\n",
    "    print(f\"F1 Score: {f1:.4f}\")\n",
    "    print(f\"ROC AUC: {roc_auc:.4f}\")\n",
    "    print(f\"\\n\")\n",
    "\n",
    "    return final_model\n",
    "\n",
    "def test_final_model(final_params, data_func):\n",
    "\n",
    "    X_test, y_test = data_func()[4:6]\n",
    "\n",
    "    final_model = train_final_model(final_params, data_func)\n",
    "\n",
    "    y_test_pred_proba = final_model.predict(X_test)\n",
    "    y_test_pred = (y_test_pred_proba > 0.5).astype(int)\n",
    "\n",
    "    '''\n",
    "    accuracy = accuracy_score(y_test, y_test_pred)\n",
    "    precision = precision_score(y_test, y_test_pred)\n",
    "    recall = recall_score(y_test, y_test_pred)\n",
    "    f1 = f1_score(y_test, y_test_pred)\n",
    "    roc_auc = roc_auc_score(y_test, y_test_pred_proba)\n",
    "    '''\n",
    "\n",
    "    print(f'Final model on test data:')\n",
    "    print(f'Roc_Auc on test - {roc_auc_score(y_test, y_test_pred)}')\n",
    "    print(f'F1 on test - {f1_score(y_test, y_test_pred)}')\n",
    "    print(f'precision on test - {precision_score(y_test, y_test_pred)}')\n",
    "    print(f'recall on test - {recall_score(y_test, y_test_pred)}')\n",
    "\n",
    "    cm = confusion_matrix(y_test, y_test_pred) #, labels=final_model.classes_)\n",
    "    disp = ConfusionMatrixDisplay(confusion_matrix=cm) #display_labels=final_model.classes_)\n",
    "    disp.plot()\n",
    "    plt.show()\n",
    "\n",
    "    plt.hist(y_test_pred_proba[y_test==0])\n",
    "    plt.show()\n",
    "    plt.hist(y_test_pred_proba[y_test==1])\n",
    "    plt.show()"
   ]
  },
  {
   "cell_type": "code",
   "execution_count": 44,
   "metadata": {},
   "outputs": [
    {
     "name": "stdout",
     "output_type": "stream",
     "text": [
      "Training metrics\n",
      "Accuracy: 0.9987\n",
      "Precision: 1.0000\n",
      "Recall: 0.1333\n",
      "F1 Score: 0.2353\n",
      "ROC AUC: 0.9892\n",
      "\n",
      "\n",
      "Final model on test data:\n",
      "Roc_Auc on test - 0.6249784751818848\n",
      "F1 on test - 0.391304347826087\n",
      "precision on test - 0.9\n",
      "recall on test - 0.25\n"
     ]
    },
    {
     "data": {
      "image/png": "[encoded data removed]",
      "text/plain": [
       "<Figure size 640x480 with 2 Axes>"
      ]
     },
     "metadata": {},
     "output_type": "display_data"
    },
    {
     "data": {
      "image/png": "[encoded data removed]",
      "text/plain": [
       "<Figure size 640x480 with 1 Axes>"
      ]
     },
     "metadata": {},
     "output_type": "display_data"
    },
    {
     "data": {
      "image/png": "[encoded data removed]",
      "text/plain": [
       "<Figure size 640x480 with 1 Axes>"
      ]
     },
     "metadata": {},
     "output_type": "display_data"
    }
   ],
   "source": [
    "test_final_model(study100.best_params, df_set_100)\n"
   ]
  },
  {
   "cell_type": "code",
   "execution_count": 45,
   "metadata": {},
   "outputs": [
    {
     "name": "stdout",
     "output_type": "stream",
     "text": [
      "Training metrics\n",
      "Accuracy: 0.9988\n",
      "Precision: 1.0000\n",
      "Recall: 0.2000\n",
      "F1 Score: 0.3333\n",
      "ROC AUC: 0.9724\n",
      "\n",
      "\n",
      "Final model on test data:\n",
      "Roc_Auc on test - 0.6110895862929959\n",
      "F1 on test - 0.35555555555555557\n",
      "precision on test - 0.8888888888888888\n",
      "recall on test - 0.2222222222222222\n"
     ]
    },
    {
     "data": {
      "image/png": "[encoded data removed]",
      "text/plain": [
       "<Figure size 640x480 with 2 Axes>"
      ]
     },
     "metadata": {},
     "output_type": "display_data"
    },
    {
     "data": {
      "image/png": "[encoded data removed]",
      "text/plain": [
       "<Figure size 640x480 with 1 Axes>"
      ]
     },
     "metadata": {},
     "output_type": "display_data"
    },
    {
     "data": {
      "image/png": "[encoded data removed]",
      "text/plain": [
       "<Figure size 640x480 with 1 Axes>"
      ]
     },
     "metadata": {},
     "output_type": "display_data"
    }
   ],
   "source": [
    "test_final_model(study256.best_params, df_set_256)\n"
   ]
  },
  {
   "cell_type": "code",
   "execution_count": 46,
   "metadata": {},
   "outputs": [
    {
     "name": "stdout",
     "output_type": "stream",
     "text": [
      "Training metrics\n",
      "Accuracy: 0.9986\n",
      "Precision: 0.5714\n",
      "Recall: 0.2667\n",
      "F1 Score: 0.3636\n",
      "ROC AUC: 0.9735\n",
      "\n",
      "\n",
      "Final model on test data:\n",
      "Roc_Auc on test - 0.6388243144345429\n",
      "F1 on test - 0.40816326530612246\n",
      "precision on test - 0.7692307692307693\n",
      "recall on test - 0.2777777777777778\n"
     ]
    },
    {
     "data": {
      "image/png": "[encoded data removed]",
      "text/plain": [
       "<Figure size 640x480 with 2 Axes>"
      ]
     },
     "metadata": {},
     "output_type": "display_data"
    },
    {
     "data": {
      "image/png": "[encoded data removed]",
      "text/plain": [
       "<Figure size 640x480 with 1 Axes>"
      ]
     },
     "metadata": {},
     "output_type": "display_data"
    },
    {
     "data": {
      "image/png": "[encoded data removed]",
      "text/plain": [
       "<Figure size 640x480 with 1 Axes>"
      ]
     },
     "metadata": {},
     "output_type": "display_data"
    }
   ],
   "source": [
    "test_final_model(study512.best_params, df_set_512)"
   ]
  },
  {
   "cell_type": "code",
   "execution_count": 47,
   "metadata": {},
   "outputs": [],
   "source": [
    "#from optuna.visualization import plot_optimization_history, plot_param_importances\n",
    "\n",
    "import plotly\n",
    "import nbformat\n",
    "from plotly.io import show\n",
    "\n",
    "#print(plotly.__version__)\n",
    "#print(nbformat.__version__)\n",
    "\n",
    "def plot_opt(optuna_study):\n",
    "    fig = optuna.visualization.plot_optimization_history(optuna_study)\n",
    "    fig.show()"
   ]
  },
  {
   "cell_type": "code",
   "execution_count": 48,
   "metadata": {},
   "outputs": [
    {
     "data": {
      "application/vnd.plotly.v1+json": {
       "config": {
        "plotlyServerURL": "https://plot.ly"
       },
       "data": [
        {
         "mode": "markers",
         "name": "Objective Value",
         "type": "scatter",
         "x": [
          0,
          1,
          2,
          3,
          4,
          5,
          6,
          7,
          8,
          9,
          10,
          11,
          12,
          13,
          14,
          15,
          16,
          17,
          18,
          19,
          20,
          21,
          22,
          23,
          24,
          25,
          26,
          27,
          28,
          29,
          30,
          31,
          32,
          33,
          34,
          35,
          36,
          37,
          38,
          39,
          40,
          41,
          42,
          43,
          44,
          45,
          46,
          47,
          48,
          49
         ],
         "y": [
          0.4295538847117795,
          0.16111111111111112,
          0.23779841761265913,
          0.2178190574475404,
          0.15583075335397317,
          0.381412591387016,
          0,
          0.07058823529411765,
          0,
          0.23625730994152044,
          0.3789987595250753,
          0.42079061289587605,
          0.45956709956709957,
          0.4714569031273837,
          0.27403508771929824,
          0.4169824561403509,
          0.3025497076023392,
          0.31934837092731827,
          0.3193301435406698,
          0.3396019693502531,
          0.44491228070175437,
          0.47043062200956937,
          0.38191770987571233,
          0.3800762776506484,
          0.37432771060357267,
          0.25181286549707604,
          0.47575757575757577,
          0.47570738440303656,
          0.3505263157894737,
          0.40371858888482937,
          0.3919073083778966,
          0.3715500515995872,
          0.4643007518796992,
          0.2970760233918129,
          0.42023809523809524,
          0.4594486215538847,
          0.3567810831426391,
          0.15730134158926729,
          0.19622291021671825,
          0.40037321564781514,
          0.29935406698564593,
          0.49920619731146043,
          0.4260202020202019,
          0.4178628389154705,
          0.43878814683768247,
          0.4134684537430533,
          0,
          0.42419685577580307,
          0.40037321564781514,
          0.45940096618357484
         ]
        },
        {
         "mode": "lines",
         "name": "Best Value",
         "type": "scatter",
         "x": [
          0,
          1,
          2,
          3,
          4,
          5,
          6,
          7,
          8,
          9,
          10,
          11,
          12,
          13,
          14,
          15,
          16,
          17,
          18,
          19,
          20,
          21,
          22,
          23,
          24,
          25,
          26,
          27,
          28,
          29,
          30,
          31,
          32,
          33,
          34,
          35,
          36,
          37,
          38,
          39,
          40,
          41,
          42,
          43,
          44,
          45,
          46,
          47,
          48,
          49
         ],
         "y": [
          0.4295538847117795,
          0.4295538847117795,
          0.4295538847117795,
          0.4295538847117795,
          0.4295538847117795,
          0.4295538847117795,
          0.4295538847117795,
          0.4295538847117795,
          0.4295538847117795,
          0.4295538847117795,
          0.4295538847117795,
          0.4295538847117795,
          0.45956709956709957,
          0.4714569031273837,
          0.4714569031273837,
          0.4714569031273837,
          0.4714569031273837,
          0.4714569031273837,
          0.4714569031273837,
          0.4714569031273837,
          0.4714569031273837,
          0.4714569031273837,
          0.4714569031273837,
          0.4714569031273837,
          0.4714569031273837,
          0.4714569031273837,
          0.47575757575757577,
          0.47575757575757577,
          0.47575757575757577,
          0.47575757575757577,
          0.47575757575757577,
          0.47575757575757577,
          0.47575757575757577,
          0.47575757575757577,
          0.47575757575757577,
          0.47575757575757577,
          0.47575757575757577,
          0.47575757575757577,
          0.47575757575757577,
          0.47575757575757577,
          0.47575757575757577,
          0.49920619731146043,
          0.49920619731146043,
          0.49920619731146043,
          0.49920619731146043,
          0.49920619731146043,
          0.49920619731146043,
          0.49920619731146043,
          0.49920619731146043,
          0.49920619731146043
         ]
        },
        {
         "marker": {
          "color": "#cccccc"
         },
         "mode": "markers",
         "name": "Infeasible Trial",
         "showlegend": false,
         "type": "scatter",
         "x": [],
         "y": []
        }
       ],
       "layout": {
        "template": {
         "data": {
          "bar": [
           {
            "error_x": {
             "color": "#2a3f5f"
            },
            "error_y": {
             "color": "#2a3f5f"
            },
            "marker": {
             "line": {
              "color": "#E5ECF6",
              "width": 0.5
             },
             "pattern": {
              "fillmode": "overlay",
              "size": 10,
              "solidity": 0.2
             }
            },
            "type": "bar"
           }
          ],
          "barpolar": [
           {
            "marker": {
             "line": {
              "color": "#E5ECF6",
              "width": 0.5
             },
             "pattern": {
              "fillmode": "overlay",
              "size": 10,
              "solidity": 0.2
             }
            },
            "type": "barpolar"
           }
          ],
          "carpet": [
           {
            "aaxis": {
             "endlinecolor": "#2a3f5f",
             "gridcolor": "white",
             "linecolor": "white",
             "minorgridcolor": "white",
             "startlinecolor": "#2a3f5f"
            },
            "baxis": {
             "endlinecolor": "#2a3f5f",
             "gridcolor": "white",
             "linecolor": "white",
             "minorgridcolor": "white",
             "startlinecolor": "#2a3f5f"
            },
            "type": "carpet"
           }
          ],
          "choropleth": [
           {
            "colorbar": {
             "outlinewidth": 0,
             "ticks": ""
            },
            "type": "choropleth"
           }
          ],
          "contour": [
           {
            "colorbar": {
             "outlinewidth": 0,
             "ticks": ""
            },
            "colorscale": [
             [
              0,
              "#0d0887"
             ],
             [
              0.1111111111111111,
              "#46039f"
             ],
             [
              0.2222222222222222,
              "#7201a8"
             ],
             [
              0.3333333333333333,
              "#9c179e"
             ],
             [
              0.4444444444444444,
              "#bd3786"
             ],
             [
              0.5555555555555556,
              "#d8576b"
             ],
             [
              0.6666666666666666,
              "#ed7953"
             ],
             [
              0.7777777777777778,
              "#fb9f3a"
             ],
             [
              0.8888888888888888,
              "#fdca26"
             ],
             [
              1,
              "#f0f921"
             ]
            ],
            "type": "contour"
           }
          ],
          "contourcarpet": [
           {
            "colorbar": {
             "outlinewidth": 0,
             "ticks": ""
            },
            "type": "contourcarpet"
           }
          ],
          "heatmap": [
           {
            "colorbar": {
             "outlinewidth": 0,
             "ticks": ""
            },
            "colorscale": [
             [
              0,
              "#0d0887"
             ],
             [
              0.1111111111111111,
              "#46039f"
             ],
             [
              0.2222222222222222,
              "#7201a8"
             ],
             [
              0.3333333333333333,
              "#9c179e"
             ],
             [
              0.4444444444444444,
              "#bd3786"
             ],
             [
              0.5555555555555556,
              "#d8576b"
             ],
             [
              0.6666666666666666,
              "#ed7953"
             ],
             [
              0.7777777777777778,
              "#fb9f3a"
             ],
             [
              0.8888888888888888,
              "#fdca26"
             ],
             [
              1,
              "#f0f921"
             ]
            ],
            "type": "heatmap"
           }
          ],
          "heatmapgl": [
           {
            "colorbar": {
             "outlinewidth": 0,
             "ticks": ""
            },
            "colorscale": [
             [
              0,
              "#0d0887"
             ],
             [
              0.1111111111111111,
              "#46039f"
             ],
             [
              0.2222222222222222,
              "#7201a8"
             ],
             [
              0.3333333333333333,
              "#9c179e"
             ],
             [
              0.4444444444444444,
              "#bd3786"
             ],
             [
              0.5555555555555556,
              "#d8576b"
             ],
             [
              0.6666666666666666,
              "#ed7953"
             ],
             [
              0.7777777777777778,
              "#fb9f3a"
             ],
             [
              0.8888888888888888,
              "#fdca26"
             ],
             [
              1,
              "#f0f921"
             ]
            ],
            "type": "heatmapgl"
           }
          ],
          "histogram": [
           {
            "marker": {
             "pattern": {
              "fillmode": "overlay",
              "size": 10,
              "solidity": 0.2
             }
            },
            "type": "histogram"
           }
          ],
          "histogram2d": [
           {
            "colorbar": {
             "outlinewidth": 0,
             "ticks": ""
            },
            "colorscale": [
             [
              0,
              "#0d0887"
             ],
             [
              0.1111111111111111,
              "#46039f"
             ],
             [
              0.2222222222222222,
              "#7201a8"
             ],
             [
              0.3333333333333333,
              "#9c179e"
             ],
             [
              0.4444444444444444,
              "#bd3786"
             ],
             [
              0.5555555555555556,
              "#d8576b"
             ],
             [
              0.6666666666666666,
              "#ed7953"
             ],
             [
              0.7777777777777778,
              "#fb9f3a"
             ],
             [
              0.8888888888888888,
              "#fdca26"
             ],
             [
              1,
              "#f0f921"
             ]
            ],
            "type": "histogram2d"
           }
          ],
          "histogram2dcontour": [
           {
            "colorbar": {
             "outlinewidth": 0,
             "ticks": ""
            },
            "colorscale": [
             [
              0,
              "#0d0887"
             ],
             [
              0.1111111111111111,
              "#46039f"
             ],
             [
              0.2222222222222222,
              "#7201a8"
             ],
             [
              0.3333333333333333,
              "#9c179e"
             ],
             [
              0.4444444444444444,
              "#bd3786"
             ],
             [
              0.5555555555555556,
              "#d8576b"
             ],
             [
              0.6666666666666666,
              "#ed7953"
             ],
             [
              0.7777777777777778,
              "#fb9f3a"
             ],
             [
              0.8888888888888888,
              "#fdca26"
             ],
             [
              1,
              "#f0f921"
             ]
            ],
            "type": "histogram2dcontour"
           }
          ],
          "mesh3d": [
           {
            "colorbar": {
             "outlinewidth": 0,
             "ticks": ""
            },
            "type": "mesh3d"
           }
          ],
          "parcoords": [
           {
            "line": {
             "colorbar": {
              "outlinewidth": 0,
              "ticks": ""
             }
            },
            "type": "parcoords"
           }
          ],
          "pie": [
           {
            "automargin": true,
            "type": "pie"
           }
          ],
          "scatter": [
           {
            "fillpattern": {
             "fillmode": "overlay",
             "size": 10,
             "solidity": 0.2
            },
            "type": "scatter"
           }
          ],
          "scatter3d": [
           {
            "line": {
             "colorbar": {
              "outlinewidth": 0,
              "ticks": ""
             }
            },
            "marker": {
             "colorbar": {
              "outlinewidth": 0,
              "ticks": ""
             }
            },
            "type": "scatter3d"
           }
          ],
          "scattercarpet": [
           {
            "marker": {
             "colorbar": {
              "outlinewidth": 0,
              "ticks": ""
             }
            },
            "type": "scattercarpet"
           }
          ],
          "scattergeo": [
           {
            "marker": {
             "colorbar": {
              "outlinewidth": 0,
              "ticks": ""
             }
            },
            "type": "scattergeo"
           }
          ],
          "scattergl": [
           {
            "marker": {
             "colorbar": {
              "outlinewidth": 0,
              "ticks": ""
             }
            },
            "type": "scattergl"
           }
          ],
          "scattermapbox": [
           {
            "marker": {
             "colorbar": {
              "outlinewidth": 0,
              "ticks": ""
             }
            },
            "type": "scattermapbox"
           }
          ],
          "scatterpolar": [
           {
            "marker": {
             "colorbar": {
              "outlinewidth": 0,
              "ticks": ""
             }
            },
            "type": "scatterpolar"
           }
          ],
          "scatterpolargl": [
           {
            "marker": {
             "colorbar": {
              "outlinewidth": 0,
              "ticks": ""
             }
            },
            "type": "scatterpolargl"
           }
          ],
          "scatterternary": [
           {
            "marker": {
             "colorbar": {
              "outlinewidth": 0,
              "ticks": ""
             }
            },
            "type": "scatterternary"
           }
          ],
          "surface": [
           {
            "colorbar": {
             "outlinewidth": 0,
             "ticks": ""
            },
            "colorscale": [
             [
              0,
              "#0d0887"
             ],
             [
              0.1111111111111111,
              "#46039f"
             ],
             [
              0.2222222222222222,
              "#7201a8"
             ],
             [
              0.3333333333333333,
              "#9c179e"
             ],
             [
              0.4444444444444444,
              "#bd3786"
             ],
             [
              0.5555555555555556,
              "#d8576b"
             ],
             [
              0.6666666666666666,
              "#ed7953"
             ],
             [
              0.7777777777777778,
              "#fb9f3a"
             ],
             [
              0.8888888888888888,
              "#fdca26"
             ],
             [
              1,
              "#f0f921"
             ]
            ],
            "type": "surface"
           }
          ],
          "table": [
           {
            "cells": {
             "fill": {
              "color": "#EBF0F8"
             },
             "line": {
              "color": "white"
             }
            },
            "header": {
             "fill": {
              "color": "#C8D4E3"
             },
             "line": {
              "color": "white"
             }
            },
            "type": "table"
           }
          ]
         },
         "layout": {
          "annotationdefaults": {
           "arrowcolor": "#2a3f5f",
           "arrowhead": 0,
           "arrowwidth": 1
          },
          "autotypenumbers": "strict",
          "coloraxis": {
           "colorbar": {
            "outlinewidth": 0,
            "ticks": ""
           }
          },
          "colorscale": {
           "diverging": [
            [
             0,
             "#8e0152"
            ],
            [
             0.1,
             "#c51b7d"
            ],
            [
             0.2,
             "#de77ae"
            ],
            [
             0.3,
             "#f1b6da"
            ],
            [
             0.4,
             "#fde0ef"
            ],
            [
             0.5,
             "#f7f7f7"
            ],
            [
             0.6,
             "#e6f5d0"
            ],
            [
             0.7,
             "#b8e186"
            ],
            [
             0.8,
             "#7fbc41"
            ],
            [
             0.9,
             "#4d9221"
            ],
            [
             1,
             "#276419"
            ]
           ],
           "sequential": [
            [
             0,
             "#0d0887"
            ],
            [
             0.1111111111111111,
             "#46039f"
            ],
            [
             0.2222222222222222,
             "#7201a8"
            ],
            [
             0.3333333333333333,
             "#9c179e"
            ],
            [
             0.4444444444444444,
             "#bd3786"
            ],
            [
             0.5555555555555556,
             "#d8576b"
            ],
            [
             0.6666666666666666,
             "#ed7953"
            ],
            [
             0.7777777777777778,
             "#fb9f3a"
            ],
            [
             0.8888888888888888,
             "#fdca26"
            ],
            [
             1,
             "#f0f921"
            ]
           ],
           "sequentialminus": [
            [
             0,
             "#0d0887"
            ],
            [
             0.1111111111111111,
             "#46039f"
            ],
            [
             0.2222222222222222,
             "#7201a8"
            ],
            [
             0.3333333333333333,
             "#9c179e"
            ],
            [
             0.4444444444444444,
             "#bd3786"
            ],
            [
             0.5555555555555556,
             "#d8576b"
            ],
            [
             0.6666666666666666,
             "#ed7953"
            ],
            [
             0.7777777777777778,
             "#fb9f3a"
            ],
            [
             0.8888888888888888,
             "#fdca26"
            ],
            [
             1,
             "#f0f921"
            ]
           ]
          },
          "colorway": [
           "#636efa",
           "#EF553B",
           "#00cc96",
           "#ab63fa",
           "#FFA15A",
           "#19d3f3",
           "#FF6692",
           "#B6E880",
           "#FF97FF",
           "#FECB52"
          ],
          "font": {
           "color": "#2a3f5f"
          },
          "geo": {
           "bgcolor": "white",
           "lakecolor": "white",
           "landcolor": "#E5ECF6",
           "showlakes": true,
           "showland": true,
           "subunitcolor": "white"
          },
          "hoverlabel": {
           "align": "left"
          },
          "hovermode": "closest",
          "mapbox": {
           "style": "light"
          },
          "paper_bgcolor": "white",
          "plot_bgcolor": "#E5ECF6",
          "polar": {
           "angularaxis": {
            "gridcolor": "white",
            "linecolor": "white",
            "ticks": ""
           },
           "bgcolor": "#E5ECF6",
           "radialaxis": {
            "gridcolor": "white",
            "linecolor": "white",
            "ticks": ""
           }
          },
          "scene": {
           "xaxis": {
            "backgroundcolor": "#E5ECF6",
            "gridcolor": "white",
            "gridwidth": 2,
            "linecolor": "white",
            "showbackground": true,
            "ticks": "",
            "zerolinecolor": "white"
           },
           "yaxis": {
            "backgroundcolor": "#E5ECF6",
            "gridcolor": "white",
            "gridwidth": 2,
            "linecolor": "white",
            "showbackground": true,
            "ticks": "",
            "zerolinecolor": "white"
           },
           "zaxis": {
            "backgroundcolor": "#E5ECF6",
            "gridcolor": "white",
            "gridwidth": 2,
            "linecolor": "white",
            "showbackground": true,
            "ticks": "",
            "zerolinecolor": "white"
           }
          },
          "shapedefaults": {
           "line": {
            "color": "#2a3f5f"
           }
          },
          "ternary": {
           "aaxis": {
            "gridcolor": "white",
            "linecolor": "white",
            "ticks": ""
           },
           "baxis": {
            "gridcolor": "white",
            "linecolor": "white",
            "ticks": ""
           },
           "bgcolor": "#E5ECF6",
           "caxis": {
            "gridcolor": "white",
            "linecolor": "white",
            "ticks": ""
           }
          },
          "title": {
           "x": 0.05
          },
          "xaxis": {
           "automargin": true,
           "gridcolor": "white",
           "linecolor": "white",
           "ticks": "",
           "title": {
            "standoff": 15
           },
           "zerolinecolor": "white",
           "zerolinewidth": 2
          },
          "yaxis": {
           "automargin": true,
           "gridcolor": "white",
           "linecolor": "white",
           "ticks": "",
           "title": {
            "standoff": 15
           },
           "zerolinecolor": "white",
           "zerolinewidth": 2
          }
         }
        },
        "title": {
         "text": "Optimization History Plot"
        },
        "xaxis": {
         "title": {
          "text": "Trial"
         }
        },
        "yaxis": {
         "title": {
          "text": "Objective Value"
         }
        }
       }
      }
     },
     "metadata": {},
     "output_type": "display_data"
    }
   ],
   "source": [
    "plot_opt(study100)"
   ]
  },
  {
   "cell_type": "code",
   "execution_count": 49,
   "metadata": {},
   "outputs": [
    {
     "data": {
      "application/vnd.plotly.v1+json": {
       "config": {
        "plotlyServerURL": "https://plot.ly"
       },
       "data": [
        {
         "mode": "markers",
         "name": "Objective Value",
         "type": "scatter",
         "x": [
          0,
          1,
          2,
          3,
          4,
          5,
          6,
          7,
          8,
          9,
          10,
          11,
          12,
          13,
          14,
          15,
          16,
          17,
          18,
          19,
          20,
          21,
          22,
          23,
          24,
          25,
          26,
          27,
          28,
          29,
          30,
          31,
          32,
          33,
          34,
          35,
          36,
          37,
          38,
          39,
          40,
          41,
          42,
          43,
          44,
          45,
          46,
          47,
          48,
          49
         ],
         "y": [
          0.52779104953018,
          0.047058823529411764,
          0.353688141923436,
          0.34590346283440915,
          0.1768833849329205,
          0.49894417862838925,
          0,
          0.2136549707602339,
          0,
          0.35844665138782783,
          0.36584415584415586,
          0.43272727272727274,
          0.5377531575975512,
          0.3622486938349007,
          0.3601110852773257,
          0.47916704805491983,
          0.500773673313719,
          0.3485739991003149,
          0.5356563436563437,
          0.44063010673536995,
          0.4090465942128347,
          0.4941006362058994,
          0.46512328251458684,
          0.5325529542920847,
          0.5321904761904761,
          0.45336820311648685,
          0.524558352402746,
          0.4682539682539682,
          0.42917171717171715,
          0.49555889724310775,
          0.39907386112339677,
          0.5632434933487565,
          0.6022351046698873,
          0.592809364548495,
          0.6093055929577669,
          0.5800248447204968,
          0.549530713375107,
          0,
          0.5269336552082547,
          0.5900432900432899,
          0.3342717795807041,
          0.5757072325081479,
          0.6113160173160173,
          0.5342974828375286,
          0.3918361514646344,
          0.43623072833599147,
          0.5581939799331104,
          0.5486482213438736,
          0.47221532091097307,
          0.5613768382647101
         ]
        },
        {
         "mode": "lines",
         "name": "Best Value",
         "type": "scatter",
         "x": [
          0,
          1,
          2,
          3,
          4,
          5,
          6,
          7,
          8,
          9,
          10,
          11,
          12,
          13,
          14,
          15,
          16,
          17,
          18,
          19,
          20,
          21,
          22,
          23,
          24,
          25,
          26,
          27,
          28,
          29,
          30,
          31,
          32,
          33,
          34,
          35,
          36,
          37,
          38,
          39,
          40,
          41,
          42,
          43,
          44,
          45,
          46,
          47,
          48,
          49
         ],
         "y": [
          0.52779104953018,
          0.52779104953018,
          0.52779104953018,
          0.52779104953018,
          0.52779104953018,
          0.52779104953018,
          0.52779104953018,
          0.52779104953018,
          0.52779104953018,
          0.52779104953018,
          0.52779104953018,
          0.52779104953018,
          0.5377531575975512,
          0.5377531575975512,
          0.5377531575975512,
          0.5377531575975512,
          0.5377531575975512,
          0.5377531575975512,
          0.5377531575975512,
          0.5377531575975512,
          0.5377531575975512,
          0.5377531575975512,
          0.5377531575975512,
          0.5377531575975512,
          0.5377531575975512,
          0.5377531575975512,
          0.5377531575975512,
          0.5377531575975512,
          0.5377531575975512,
          0.5377531575975512,
          0.5377531575975512,
          0.5632434933487565,
          0.6022351046698873,
          0.6022351046698873,
          0.6093055929577669,
          0.6093055929577669,
          0.6093055929577669,
          0.6093055929577669,
          0.6093055929577669,
          0.6093055929577669,
          0.6093055929577669,
          0.6093055929577669,
          0.6113160173160173,
          0.6113160173160173,
          0.6113160173160173,
          0.6113160173160173,
          0.6113160173160173,
          0.6113160173160173,
          0.6113160173160173,
          0.6113160173160173
         ]
        },
        {
         "marker": {
          "color": "#cccccc"
         },
         "mode": "markers",
         "name": "Infeasible Trial",
         "showlegend": false,
         "type": "scatter",
         "x": [],
         "y": []
        }
       ],
       "layout": {
        "template": {
         "data": {
          "bar": [
           {
            "error_x": {
             "color": "#2a3f5f"
            },
            "error_y": {
             "color": "#2a3f5f"
            },
            "marker": {
             "line": {
              "color": "#E5ECF6",
              "width": 0.5
             },
             "pattern": {
              "fillmode": "overlay",
              "size": 10,
              "solidity": 0.2
             }
            },
            "type": "bar"
           }
          ],
          "barpolar": [
           {
            "marker": {
             "line": {
              "color": "#E5ECF6",
              "width": 0.5
             },
             "pattern": {
              "fillmode": "overlay",
              "size": 10,
              "solidity": 0.2
             }
            },
            "type": "barpolar"
           }
          ],
          "carpet": [
           {
            "aaxis": {
             "endlinecolor": "#2a3f5f",
             "gridcolor": "white",
             "linecolor": "white",
             "minorgridcolor": "white",
             "startlinecolor": "#2a3f5f"
            },
            "baxis": {
             "endlinecolor": "#2a3f5f",
             "gridcolor": "white",
             "linecolor": "white",
             "minorgridcolor": "white",
             "startlinecolor": "#2a3f5f"
            },
            "type": "carpet"
           }
          ],
          "choropleth": [
           {
            "colorbar": {
             "outlinewidth": 0,
             "ticks": ""
            },
            "type": "choropleth"
           }
          ],
          "contour": [
           {
            "colorbar": {
             "outlinewidth": 0,
             "ticks": ""
            },
            "colorscale": [
             [
              0,
              "#0d0887"
             ],
             [
              0.1111111111111111,
              "#46039f"
             ],
             [
              0.2222222222222222,
              "#7201a8"
             ],
             [
              0.3333333333333333,
              "#9c179e"
             ],
             [
              0.4444444444444444,
              "#bd3786"
             ],
             [
              0.5555555555555556,
              "#d8576b"
             ],
             [
              0.6666666666666666,
              "#ed7953"
             ],
             [
              0.7777777777777778,
              "#fb9f3a"
             ],
             [
              0.8888888888888888,
              "#fdca26"
             ],
             [
              1,
              "#f0f921"
             ]
            ],
            "type": "contour"
           }
          ],
          "contourcarpet": [
           {
            "colorbar": {
             "outlinewidth": 0,
             "ticks": ""
            },
            "type": "contourcarpet"
           }
          ],
          "heatmap": [
           {
            "colorbar": {
             "outlinewidth": 0,
             "ticks": ""
            },
            "colorscale": [
             [
              0,
              "#0d0887"
             ],
             [
              0.1111111111111111,
              "#46039f"
             ],
             [
              0.2222222222222222,
              "#7201a8"
             ],
             [
              0.3333333333333333,
              "#9c179e"
             ],
             [
              0.4444444444444444,
              "#bd3786"
             ],
             [
              0.5555555555555556,
              "#d8576b"
             ],
             [
              0.6666666666666666,
              "#ed7953"
             ],
             [
              0.7777777777777778,
              "#fb9f3a"
             ],
             [
              0.8888888888888888,
              "#fdca26"
             ],
             [
              1,
              "#f0f921"
             ]
            ],
            "type": "heatmap"
           }
          ],
          "heatmapgl": [
           {
            "colorbar": {
             "outlinewidth": 0,
             "ticks": ""
            },
            "colorscale": [
             [
              0,
              "#0d0887"
             ],
             [
              0.1111111111111111,
              "#46039f"
             ],
             [
              0.2222222222222222,
              "#7201a8"
             ],
             [
              0.3333333333333333,
              "#9c179e"
             ],
             [
              0.4444444444444444,
              "#bd3786"
             ],
             [
              0.5555555555555556,
              "#d8576b"
             ],
             [
              0.6666666666666666,
              "#ed7953"
             ],
             [
              0.7777777777777778,
              "#fb9f3a"
             ],
             [
              0.8888888888888888,
              "#fdca26"
             ],
             [
              1,
              "#f0f921"
             ]
            ],
            "type": "heatmapgl"
           }
          ],
          "histogram": [
           {
            "marker": {
             "pattern": {
              "fillmode": "overlay",
              "size": 10,
              "solidity": 0.2
             }
            },
            "type": "histogram"
           }
          ],
          "histogram2d": [
           {
            "colorbar": {
             "outlinewidth": 0,
             "ticks": ""
            },
            "colorscale": [
             [
              0,
              "#0d0887"
             ],
             [
              0.1111111111111111,
              "#46039f"
             ],
             [
              0.2222222222222222,
              "#7201a8"
             ],
             [
              0.3333333333333333,
              "#9c179e"
             ],
             [
              0.4444444444444444,
              "#bd3786"
             ],
             [
              0.5555555555555556,
              "#d8576b"
             ],
             [
              0.6666666666666666,
              "#ed7953"
             ],
             [
              0.7777777777777778,
              "#fb9f3a"
             ],
             [
              0.8888888888888888,
              "#fdca26"
             ],
             [
              1,
              "#f0f921"
             ]
            ],
            "type": "histogram2d"
           }
          ],
          "histogram2dcontour": [
           {
            "colorbar": {
             "outlinewidth": 0,
             "ticks": ""
            },
            "colorscale": [
             [
              0,
              "#0d0887"
             ],
             [
              0.1111111111111111,
              "#46039f"
             ],
             [
              0.2222222222222222,
              "#7201a8"
             ],
             [
              0.3333333333333333,
              "#9c179e"
             ],
             [
              0.4444444444444444,
              "#bd3786"
             ],
             [
              0.5555555555555556,
              "#d8576b"
             ],
             [
              0.6666666666666666,
              "#ed7953"
             ],
             [
              0.7777777777777778,
              "#fb9f3a"
             ],
             [
              0.8888888888888888,
              "#fdca26"
             ],
             [
              1,
              "#f0f921"
             ]
            ],
            "type": "histogram2dcontour"
           }
          ],
          "mesh3d": [
           {
            "colorbar": {
             "outlinewidth": 0,
             "ticks": ""
            },
            "type": "mesh3d"
           }
          ],
          "parcoords": [
           {
            "line": {
             "colorbar": {
              "outlinewidth": 0,
              "ticks": ""
             }
            },
            "type": "parcoords"
           }
          ],
          "pie": [
           {
            "automargin": true,
            "type": "pie"
           }
          ],
          "scatter": [
           {
            "fillpattern": {
             "fillmode": "overlay",
             "size": 10,
             "solidity": 0.2
            },
            "type": "scatter"
           }
          ],
          "scatter3d": [
           {
            "line": {
             "colorbar": {
              "outlinewidth": 0,
              "ticks": ""
             }
            },
            "marker": {
             "colorbar": {
              "outlinewidth": 0,
              "ticks": ""
             }
            },
            "type": "scatter3d"
           }
          ],
          "scattercarpet": [
           {
            "marker": {
             "colorbar": {
              "outlinewidth": 0,
              "ticks": ""
             }
            },
            "type": "scattercarpet"
           }
          ],
          "scattergeo": [
           {
            "marker": {
             "colorbar": {
              "outlinewidth": 0,
              "ticks": ""
             }
            },
            "type": "scattergeo"
           }
          ],
          "scattergl": [
           {
            "marker": {
             "colorbar": {
              "outlinewidth": 0,
              "ticks": ""
             }
            },
            "type": "scattergl"
           }
          ],
          "scattermapbox": [
           {
            "marker": {
             "colorbar": {
              "outlinewidth": 0,
              "ticks": ""
             }
            },
            "type": "scattermapbox"
           }
          ],
          "scatterpolar": [
           {
            "marker": {
             "colorbar": {
              "outlinewidth": 0,
              "ticks": ""
             }
            },
            "type": "scatterpolar"
           }
          ],
          "scatterpolargl": [
           {
            "marker": {
             "colorbar": {
              "outlinewidth": 0,
              "ticks": ""
             }
            },
            "type": "scatterpolargl"
           }
          ],
          "scatterternary": [
           {
            "marker": {
             "colorbar": {
              "outlinewidth": 0,
              "ticks": ""
             }
            },
            "type": "scatterternary"
           }
          ],
          "surface": [
           {
            "colorbar": {
             "outlinewidth": 0,
             "ticks": ""
            },
            "colorscale": [
             [
              0,
              "#0d0887"
             ],
             [
              0.1111111111111111,
              "#46039f"
             ],
             [
              0.2222222222222222,
              "#7201a8"
             ],
             [
              0.3333333333333333,
              "#9c179e"
             ],
             [
              0.4444444444444444,
              "#bd3786"
             ],
             [
              0.5555555555555556,
              "#d8576b"
             ],
             [
              0.6666666666666666,
              "#ed7953"
             ],
             [
              0.7777777777777778,
              "#fb9f3a"
             ],
             [
              0.8888888888888888,
              "#fdca26"
             ],
             [
              1,
              "#f0f921"
             ]
            ],
            "type": "surface"
           }
          ],
          "table": [
           {
            "cells": {
             "fill": {
              "color": "#EBF0F8"
             },
             "line": {
              "color": "white"
             }
            },
            "header": {
             "fill": {
              "color": "#C8D4E3"
             },
             "line": {
              "color": "white"
             }
            },
            "type": "table"
           }
          ]
         },
         "layout": {
          "annotationdefaults": {
           "arrowcolor": "#2a3f5f",
           "arrowhead": 0,
           "arrowwidth": 1
          },
          "autotypenumbers": "strict",
          "coloraxis": {
           "colorbar": {
            "outlinewidth": 0,
            "ticks": ""
           }
          },
          "colorscale": {
           "diverging": [
            [
             0,
             "#8e0152"
            ],
            [
             0.1,
             "#c51b7d"
            ],
            [
             0.2,
             "#de77ae"
            ],
            [
             0.3,
             "#f1b6da"
            ],
            [
             0.4,
             "#fde0ef"
            ],
            [
             0.5,
             "#f7f7f7"
            ],
            [
             0.6,
             "#e6f5d0"
            ],
            [
             0.7,
             "#b8e186"
            ],
            [
             0.8,
             "#7fbc41"
            ],
            [
             0.9,
             "#4d9221"
            ],
            [
             1,
             "#276419"
            ]
           ],
           "sequential": [
            [
             0,
             "#0d0887"
            ],
            [
             0.1111111111111111,
             "#46039f"
            ],
            [
             0.2222222222222222,
             "#7201a8"
            ],
            [
             0.3333333333333333,
             "#9c179e"
            ],
            [
             0.4444444444444444,
             "#bd3786"
            ],
            [
             0.5555555555555556,
             "#d8576b"
            ],
            [
             0.6666666666666666,
             "#ed7953"
            ],
            [
             0.7777777777777778,
             "#fb9f3a"
            ],
            [
             0.8888888888888888,
             "#fdca26"
            ],
            [
             1,
             "#f0f921"
            ]
           ],
           "sequentialminus": [
            [
             0,
             "#0d0887"
            ],
            [
             0.1111111111111111,
             "#46039f"
            ],
            [
             0.2222222222222222,
             "#7201a8"
            ],
            [
             0.3333333333333333,
             "#9c179e"
            ],
            [
             0.4444444444444444,
             "#bd3786"
            ],
            [
             0.5555555555555556,
             "#d8576b"
            ],
            [
             0.6666666666666666,
             "#ed7953"
            ],
            [
             0.7777777777777778,
             "#fb9f3a"
            ],
            [
             0.8888888888888888,
             "#fdca26"
            ],
            [
             1,
             "#f0f921"
            ]
           ]
          },
          "colorway": [
           "#636efa",
           "#EF553B",
           "#00cc96",
           "#ab63fa",
           "#FFA15A",
           "#19d3f3",
           "#FF6692",
           "#B6E880",
           "#FF97FF",
           "#FECB52"
          ],
          "font": {
           "color": "#2a3f5f"
          },
          "geo": {
           "bgcolor": "white",
           "lakecolor": "white",
           "landcolor": "#E5ECF6",
           "showlakes": true,
           "showland": true,
           "subunitcolor": "white"
          },
          "hoverlabel": {
           "align": "left"
          },
          "hovermode": "closest",
          "mapbox": {
           "style": "light"
          },
          "paper_bgcolor": "white",
          "plot_bgcolor": "#E5ECF6",
          "polar": {
           "angularaxis": {
            "gridcolor": "white",
            "linecolor": "white",
            "ticks": ""
           },
           "bgcolor": "#E5ECF6",
           "radialaxis": {
            "gridcolor": "white",
            "linecolor": "white",
            "ticks": ""
           }
          },
          "scene": {
           "xaxis": {
            "backgroundcolor": "#E5ECF6",
            "gridcolor": "white",
            "gridwidth": 2,
            "linecolor": "white",
            "showbackground": true,
            "ticks": "",
            "zerolinecolor": "white"
           },
           "yaxis": {
            "backgroundcolor": "#E5ECF6",
            "gridcolor": "white",
            "gridwidth": 2,
            "linecolor": "white",
            "showbackground": true,
            "ticks": "",
            "zerolinecolor": "white"
           },
           "zaxis": {
            "backgroundcolor": "#E5ECF6",
            "gridcolor": "white",
            "gridwidth": 2,
            "linecolor": "white",
            "showbackground": true,
            "ticks": "",
            "zerolinecolor": "white"
           }
          },
          "shapedefaults": {
           "line": {
            "color": "#2a3f5f"
           }
          },
          "ternary": {
           "aaxis": {
            "gridcolor": "white",
            "linecolor": "white",
            "ticks": ""
           },
           "baxis": {
            "gridcolor": "white",
            "linecolor": "white",
            "ticks": ""
           },
           "bgcolor": "#E5ECF6",
           "caxis": {
            "gridcolor": "white",
            "linecolor": "white",
            "ticks": ""
           }
          },
          "title": {
           "x": 0.05
          },
          "xaxis": {
           "automargin": true,
           "gridcolor": "white",
           "linecolor": "white",
           "ticks": "",
           "title": {
            "standoff": 15
           },
           "zerolinecolor": "white",
           "zerolinewidth": 2
          },
          "yaxis": {
           "automargin": true,
           "gridcolor": "white",
           "linecolor": "white",
           "ticks": "",
           "title": {
            "standoff": 15
           },
           "zerolinecolor": "white",
           "zerolinewidth": 2
          }
         }
        },
        "title": {
         "text": "Optimization History Plot"
        },
        "xaxis": {
         "title": {
          "text": "Trial"
         }
        },
        "yaxis": {
         "title": {
          "text": "Objective Value"
         }
        }
       }
      }
     },
     "metadata": {},
     "output_type": "display_data"
    }
   ],
   "source": [
    "plot_opt(study256)"
   ]
  },
  {
   "cell_type": "code",
   "execution_count": 50,
   "metadata": {},
   "outputs": [
    {
     "data": {
      "application/vnd.plotly.v1+json": {
       "config": {
        "plotlyServerURL": "https://plot.ly"
       },
       "data": [
        {
         "mode": "markers",
         "name": "Objective Value",
         "type": "scatter",
         "x": [
          0,
          1,
          2,
          3,
          4,
          5,
          6,
          7,
          8,
          9,
          10,
          11,
          12,
          13,
          14,
          15,
          16,
          17,
          18,
          19,
          20,
          21,
          22,
          23,
          24,
          25,
          26,
          27,
          28,
          29,
          30,
          31,
          32,
          33,
          34,
          35,
          36,
          37,
          38,
          39,
          40,
          41,
          42,
          43,
          44,
          45,
          46,
          47,
          48,
          49
         ],
         "y": [
          0.4426007326007326,
          0.1165032679738562,
          0.21754385964912282,
          0.256140350877193,
          0.16470588235294117,
          0.43406698564593305,
          0,
          0.13260233918128655,
          0.025,
          0.3551624158435304,
          0.48862423333787647,
          0.3985536964941999,
          0.6057489177489177,
          0.48106927397545246,
          0.3046115288220551,
          0.41731023210199414,
          0.28139225068017637,
          0.35428571428571426,
          0.24210526315789468,
          0.426605644546148,
          0.5120069739566308,
          0.49310755148741414,
          0.5003105590062111,
          0.4726634768740031,
          0.40910973084886126,
          0.5194805194805194,
          0.5131075514874143,
          0.41583959899749373,
          0.5466915113871635,
          0.4770084802799839,
          0.16633986928104574,
          0.4832061973114604,
          0.474481658692185,
          0.2031905744754042,
          0.4248484848484848,
          0.4287660560375596,
          0.48682684973302826,
          0.26345864661654134,
          0.46798815219867845,
          0.265015479876161,
          0.5128322478436894,
          0.44733014354066986,
          0.49016018306636155,
          0.5715524475524475,
          0.4586026831785346,
          0.53,
          0.5460486881539512,
          0.32285955530537574,
          0.44837389917481446,
          0.4870205157161679
         ]
        },
        {
         "mode": "lines",
         "name": "Best Value",
         "type": "scatter",
         "x": [
          0,
          1,
          2,
          3,
          4,
          5,
          6,
          7,
          8,
          9,
          10,
          11,
          12,
          13,
          14,
          15,
          16,
          17,
          18,
          19,
          20,
          21,
          22,
          23,
          24,
          25,
          26,
          27,
          28,
          29,
          30,
          31,
          32,
          33,
          34,
          35,
          36,
          37,
          38,
          39,
          40,
          41,
          42,
          43,
          44,
          45,
          46,
          47,
          48,
          49
         ],
         "y": [
          0.4426007326007326,
          0.4426007326007326,
          0.4426007326007326,
          0.4426007326007326,
          0.4426007326007326,
          0.4426007326007326,
          0.4426007326007326,
          0.4426007326007326,
          0.4426007326007326,
          0.4426007326007326,
          0.48862423333787647,
          0.48862423333787647,
          0.6057489177489177,
          0.6057489177489177,
          0.6057489177489177,
          0.6057489177489177,
          0.6057489177489177,
          0.6057489177489177,
          0.6057489177489177,
          0.6057489177489177,
          0.6057489177489177,
          0.6057489177489177,
          0.6057489177489177,
          0.6057489177489177,
          0.6057489177489177,
          0.6057489177489177,
          0.6057489177489177,
          0.6057489177489177,
          0.6057489177489177,
          0.6057489177489177,
          0.6057489177489177,
          0.6057489177489177,
          0.6057489177489177,
          0.6057489177489177,
          0.6057489177489177,
          0.6057489177489177,
          0.6057489177489177,
          0.6057489177489177,
          0.6057489177489177,
          0.6057489177489177,
          0.6057489177489177,
          0.6057489177489177,
          0.6057489177489177,
          0.6057489177489177,
          0.6057489177489177,
          0.6057489177489177,
          0.6057489177489177,
          0.6057489177489177,
          0.6057489177489177,
          0.6057489177489177
         ]
        },
        {
         "marker": {
          "color": "#cccccc"
         },
         "mode": "markers",
         "name": "Infeasible Trial",
         "showlegend": false,
         "type": "scatter",
         "x": [],
         "y": []
        }
       ],
       "layout": {
        "template": {
         "data": {
          "bar": [
           {
            "error_x": {
             "color": "#2a3f5f"
            },
            "error_y": {
             "color": "#2a3f5f"
            },
            "marker": {
             "line": {
              "color": "#E5ECF6",
              "width": 0.5
             },
             "pattern": {
              "fillmode": "overlay",
              "size": 10,
              "solidity": 0.2
             }
            },
            "type": "bar"
           }
          ],
          "barpolar": [
           {
            "marker": {
             "line": {
              "color": "#E5ECF6",
              "width": 0.5
             },
             "pattern": {
              "fillmode": "overlay",
              "size": 10,
              "solidity": 0.2
             }
            },
            "type": "barpolar"
           }
          ],
          "carpet": [
           {
            "aaxis": {
             "endlinecolor": "#2a3f5f",
             "gridcolor": "white",
             "linecolor": "white",
             "minorgridcolor": "white",
             "startlinecolor": "#2a3f5f"
            },
            "baxis": {
             "endlinecolor": "#2a3f5f",
             "gridcolor": "white",
             "linecolor": "white",
             "minorgridcolor": "white",
             "startlinecolor": "#2a3f5f"
            },
            "type": "carpet"
           }
          ],
          "choropleth": [
           {
            "colorbar": {
             "outlinewidth": 0,
             "ticks": ""
            },
            "type": "choropleth"
           }
          ],
          "contour": [
           {
            "colorbar": {
             "outlinewidth": 0,
             "ticks": ""
            },
            "colorscale": [
             [
              0,
              "#0d0887"
             ],
             [
              0.1111111111111111,
              "#46039f"
             ],
             [
              0.2222222222222222,
              "#7201a8"
             ],
             [
              0.3333333333333333,
              "#9c179e"
             ],
             [
              0.4444444444444444,
              "#bd3786"
             ],
             [
              0.5555555555555556,
              "#d8576b"
             ],
             [
              0.6666666666666666,
              "#ed7953"
             ],
             [
              0.7777777777777778,
              "#fb9f3a"
             ],
             [
              0.8888888888888888,
              "#fdca26"
             ],
             [
              1,
              "#f0f921"
             ]
            ],
            "type": "contour"
           }
          ],
          "contourcarpet": [
           {
            "colorbar": {
             "outlinewidth": 0,
             "ticks": ""
            },
            "type": "contourcarpet"
           }
          ],
          "heatmap": [
           {
            "colorbar": {
             "outlinewidth": 0,
             "ticks": ""
            },
            "colorscale": [
             [
              0,
              "#0d0887"
             ],
             [
              0.1111111111111111,
              "#46039f"
             ],
             [
              0.2222222222222222,
              "#7201a8"
             ],
             [
              0.3333333333333333,
              "#9c179e"
             ],
             [
              0.4444444444444444,
              "#bd3786"
             ],
             [
              0.5555555555555556,
              "#d8576b"
             ],
             [
              0.6666666666666666,
              "#ed7953"
             ],
             [
              0.7777777777777778,
              "#fb9f3a"
             ],
             [
              0.8888888888888888,
              "#fdca26"
             ],
             [
              1,
              "#f0f921"
             ]
            ],
            "type": "heatmap"
           }
          ],
          "heatmapgl": [
           {
            "colorbar": {
             "outlinewidth": 0,
             "ticks": ""
            },
            "colorscale": [
             [
              0,
              "#0d0887"
             ],
             [
              0.1111111111111111,
              "#46039f"
             ],
             [
              0.2222222222222222,
              "#7201a8"
             ],
             [
              0.3333333333333333,
              "#9c179e"
             ],
             [
              0.4444444444444444,
              "#bd3786"
             ],
             [
              0.5555555555555556,
              "#d8576b"
             ],
             [
              0.6666666666666666,
              "#ed7953"
             ],
             [
              0.7777777777777778,
              "#fb9f3a"
             ],
             [
              0.8888888888888888,
              "#fdca26"
             ],
             [
              1,
              "#f0f921"
             ]
            ],
            "type": "heatmapgl"
           }
          ],
          "histogram": [
           {
            "marker": {
             "pattern": {
              "fillmode": "overlay",
              "size": 10,
              "solidity": 0.2
             }
            },
            "type": "histogram"
           }
          ],
          "histogram2d": [
           {
            "colorbar": {
             "outlinewidth": 0,
             "ticks": ""
            },
            "colorscale": [
             [
              0,
              "#0d0887"
             ],
             [
              0.1111111111111111,
              "#46039f"
             ],
             [
              0.2222222222222222,
              "#7201a8"
             ],
             [
              0.3333333333333333,
              "#9c179e"
             ],
             [
              0.4444444444444444,
              "#bd3786"
             ],
             [
              0.5555555555555556,
              "#d8576b"
             ],
             [
              0.6666666666666666,
              "#ed7953"
             ],
             [
              0.7777777777777778,
              "#fb9f3a"
             ],
             [
              0.8888888888888888,
              "#fdca26"
             ],
             [
              1,
              "#f0f921"
             ]
            ],
            "type": "histogram2d"
           }
          ],
          "histogram2dcontour": [
           {
            "colorbar": {
             "outlinewidth": 0,
             "ticks": ""
            },
            "colorscale": [
             [
              0,
              "#0d0887"
             ],
             [
              0.1111111111111111,
              "#46039f"
             ],
             [
              0.2222222222222222,
              "#7201a8"
             ],
             [
              0.3333333333333333,
              "#9c179e"
             ],
             [
              0.4444444444444444,
              "#bd3786"
             ],
             [
              0.5555555555555556,
              "#d8576b"
             ],
             [
              0.6666666666666666,
              "#ed7953"
             ],
             [
              0.7777777777777778,
              "#fb9f3a"
             ],
             [
              0.8888888888888888,
              "#fdca26"
             ],
             [
              1,
              "#f0f921"
             ]
            ],
            "type": "histogram2dcontour"
           }
          ],
          "mesh3d": [
           {
            "colorbar": {
             "outlinewidth": 0,
             "ticks": ""
            },
            "type": "mesh3d"
           }
          ],
          "parcoords": [
           {
            "line": {
             "colorbar": {
              "outlinewidth": 0,
              "ticks": ""
             }
            },
            "type": "parcoords"
           }
          ],
          "pie": [
           {
            "automargin": true,
            "type": "pie"
           }
          ],
          "scatter": [
           {
            "fillpattern": {
             "fillmode": "overlay",
             "size": 10,
             "solidity": 0.2
            },
            "type": "scatter"
           }
          ],
          "scatter3d": [
           {
            "line": {
             "colorbar": {
              "outlinewidth": 0,
              "ticks": ""
             }
            },
            "marker": {
             "colorbar": {
              "outlinewidth": 0,
              "ticks": ""
             }
            },
            "type": "scatter3d"
           }
          ],
          "scattercarpet": [
           {
            "marker": {
             "colorbar": {
              "outlinewidth": 0,
              "ticks": ""
             }
            },
            "type": "scattercarpet"
           }
          ],
          "scattergeo": [
           {
            "marker": {
             "colorbar": {
              "outlinewidth": 0,
              "ticks": ""
             }
            },
            "type": "scattergeo"
           }
          ],
          "scattergl": [
           {
            "marker": {
             "colorbar": {
              "outlinewidth": 0,
              "ticks": ""
             }
            },
            "type": "scattergl"
           }
          ],
          "scattermapbox": [
           {
            "marker": {
             "colorbar": {
              "outlinewidth": 0,
              "ticks": ""
             }
            },
            "type": "scattermapbox"
           }
          ],
          "scatterpolar": [
           {
            "marker": {
             "colorbar": {
              "outlinewidth": 0,
              "ticks": ""
             }
            },
            "type": "scatterpolar"
           }
          ],
          "scatterpolargl": [
           {
            "marker": {
             "colorbar": {
              "outlinewidth": 0,
              "ticks": ""
             }
            },
            "type": "scatterpolargl"
           }
          ],
          "scatterternary": [
           {
            "marker": {
             "colorbar": {
              "outlinewidth": 0,
              "ticks": ""
             }
            },
            "type": "scatterternary"
           }
          ],
          "surface": [
           {
            "colorbar": {
             "outlinewidth": 0,
             "ticks": ""
            },
            "colorscale": [
             [
              0,
              "#0d0887"
             ],
             [
              0.1111111111111111,
              "#46039f"
             ],
             [
              0.2222222222222222,
              "#7201a8"
             ],
             [
              0.3333333333333333,
              "#9c179e"
             ],
             [
              0.4444444444444444,
              "#bd3786"
             ],
             [
              0.5555555555555556,
              "#d8576b"
             ],
             [
              0.6666666666666666,
              "#ed7953"
             ],
             [
              0.7777777777777778,
              "#fb9f3a"
             ],
             [
              0.8888888888888888,
              "#fdca26"
             ],
             [
              1,
              "#f0f921"
             ]
            ],
            "type": "surface"
           }
          ],
          "table": [
           {
            "cells": {
             "fill": {
              "color": "#EBF0F8"
             },
             "line": {
              "color": "white"
             }
            },
            "header": {
             "fill": {
              "color": "#C8D4E3"
             },
             "line": {
              "color": "white"
             }
            },
            "type": "table"
           }
          ]
         },
         "layout": {
          "annotationdefaults": {
           "arrowcolor": "#2a3f5f",
           "arrowhead": 0,
           "arrowwidth": 1
          },
          "autotypenumbers": "strict",
          "coloraxis": {
           "colorbar": {
            "outlinewidth": 0,
            "ticks": ""
           }
          },
          "colorscale": {
           "diverging": [
            [
             0,
             "#8e0152"
            ],
            [
             0.1,
             "#c51b7d"
            ],
            [
             0.2,
             "#de77ae"
            ],
            [
             0.3,
             "#f1b6da"
            ],
            [
             0.4,
             "#fde0ef"
            ],
            [
             0.5,
             "#f7f7f7"
            ],
            [
             0.6,
             "#e6f5d0"
            ],
            [
             0.7,
             "#b8e186"
            ],
            [
             0.8,
             "#7fbc41"
            ],
            [
             0.9,
             "#4d9221"
            ],
            [
             1,
             "#276419"
            ]
           ],
           "sequential": [
            [
             0,
             "#0d0887"
            ],
            [
             0.1111111111111111,
             "#46039f"
            ],
            [
             0.2222222222222222,
             "#7201a8"
            ],
            [
             0.3333333333333333,
             "#9c179e"
            ],
            [
             0.4444444444444444,
             "#bd3786"
            ],
            [
             0.5555555555555556,
             "#d8576b"
            ],
            [
             0.6666666666666666,
             "#ed7953"
            ],
            [
             0.7777777777777778,
             "#fb9f3a"
            ],
            [
             0.8888888888888888,
             "#fdca26"
            ],
            [
             1,
             "#f0f921"
            ]
           ],
           "sequentialminus": [
            [
             0,
             "#0d0887"
            ],
            [
             0.1111111111111111,
             "#46039f"
            ],
            [
             0.2222222222222222,
             "#7201a8"
            ],
            [
             0.3333333333333333,
             "#9c179e"
            ],
            [
             0.4444444444444444,
             "#bd3786"
            ],
            [
             0.5555555555555556,
             "#d8576b"
            ],
            [
             0.6666666666666666,
             "#ed7953"
            ],
            [
             0.7777777777777778,
             "#fb9f3a"
            ],
            [
             0.8888888888888888,
             "#fdca26"
            ],
            [
             1,
             "#f0f921"
            ]
           ]
          },
          "colorway": [
           "#636efa",
           "#EF553B",
           "#00cc96",
           "#ab63fa",
           "#FFA15A",
           "#19d3f3",
           "#FF6692",
           "#B6E880",
           "#FF97FF",
           "#FECB52"
          ],
          "font": {
           "color": "#2a3f5f"
          },
          "geo": {
           "bgcolor": "white",
           "lakecolor": "white",
           "landcolor": "#E5ECF6",
           "showlakes": true,
           "showland": true,
           "subunitcolor": "white"
          },
          "hoverlabel": {
           "align": "left"
          },
          "hovermode": "closest",
          "mapbox": {
           "style": "light"
          },
          "paper_bgcolor": "white",
          "plot_bgcolor": "#E5ECF6",
          "polar": {
           "angularaxis": {
            "gridcolor": "white",
            "linecolor": "white",
            "ticks": ""
           },
           "bgcolor": "#E5ECF6",
           "radialaxis": {
            "gridcolor": "white",
            "linecolor": "white",
            "ticks": ""
           }
          },
          "scene": {
           "xaxis": {
            "backgroundcolor": "#E5ECF6",
            "gridcolor": "white",
            "gridwidth": 2,
            "linecolor": "white",
            "showbackground": true,
            "ticks": "",
            "zerolinecolor": "white"
           },
           "yaxis": {
            "backgroundcolor": "#E5ECF6",
            "gridcolor": "white",
            "gridwidth": 2,
            "linecolor": "white",
            "showbackground": true,
            "ticks": "",
            "zerolinecolor": "white"
           },
           "zaxis": {
            "backgroundcolor": "#E5ECF6",
            "gridcolor": "white",
            "gridwidth": 2,
            "linecolor": "white",
            "showbackground": true,
            "ticks": "",
            "zerolinecolor": "white"
           }
          },
          "shapedefaults": {
           "line": {
            "color": "#2a3f5f"
           }
          },
          "ternary": {
           "aaxis": {
            "gridcolor": "white",
            "linecolor": "white",
            "ticks": ""
           },
           "baxis": {
            "gridcolor": "white",
            "linecolor": "white",
            "ticks": ""
           },
           "bgcolor": "#E5ECF6",
           "caxis": {
            "gridcolor": "white",
            "linecolor": "white",
            "ticks": ""
           }
          },
          "title": {
           "x": 0.05
          },
          "xaxis": {
           "automargin": true,
           "gridcolor": "white",
           "linecolor": "white",
           "ticks": "",
           "title": {
            "standoff": 15
           },
           "zerolinecolor": "white",
           "zerolinewidth": 2
          },
          "yaxis": {
           "automargin": true,
           "gridcolor": "white",
           "linecolor": "white",
           "ticks": "",
           "title": {
            "standoff": 15
           },
           "zerolinecolor": "white",
           "zerolinewidth": 2
          }
         }
        },
        "title": {
         "text": "Optimization History Plot"
        },
        "xaxis": {
         "title": {
          "text": "Trial"
         }
        },
        "yaxis": {
         "title": {
          "text": "Objective Value"
         }
        }
       }
      }
     },
     "metadata": {},
     "output_type": "display_data"
    }
   ],
   "source": [
    "plot_opt(study512)"
   ]
  }
 ],
 "metadata": {
  "kernelspec": {
   "display_name": "datascience",
   "language": "python",
   "name": "python3"
  },
  "language_info": {
   "codemirror_mode": {
    "name": "ipython",
    "version": 3
   },
   "file_extension": ".py",
   "mimetype": "text/x-python",
   "name": "python",
   "nbconvert_exporter": "python",
   "pygments_lexer": "ipython3",
   "version": "3.12.7"
  }
 },
 "nbformat": 4,
 "nbformat_minor": 2
}

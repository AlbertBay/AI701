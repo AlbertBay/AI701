{
 "cells": [
  {
   "cell_type": "code",
   "execution_count": 1,
   "metadata": {},
   "outputs": [
    {
     "name": "stdout",
     "output_type": "stream",
     "text": [
      "data loaded\n"
     ]
    }
   ],
   "source": [
    "import os\n",
    "\n",
    "# Получить путь к текущей рабочей директории\n",
    "current_dir = os.getcwd()\n",
    "\n",
    "# Получить путь к родительской директории\n",
    "parent_dir = os.path.abspath(os.path.join(current_dir, '..'))\n",
    "\n",
    "# Изменить текущую рабочую директорию на родительскую директорию\n",
    "os.chdir(parent_dir)\n",
    "\n",
    "import pandas as pd\n",
    "from gensim.models import Word2Vec\n",
    "from utils import tokenize_with_hex_replacement, get_average_vector\n",
    "\n",
    "train = pd.read_parquet('data/train.parquet')\n",
    "val = pd.read_parquet('data/val.parquet')\n",
    "test = pd.read_parquet('data/test.parquet')\n",
    "model = Word2Vec.load(\"models_serialized/word2vec_256.model\")\n",
    "print('data loaded')"
   ]
  },
  {
   "cell_type": "code",
   "execution_count": 2,
   "metadata": {},
   "outputs": [
    {
     "name": "stdout",
     "output_type": "stream",
     "text": [
      "data transoformed\n"
     ]
    }
   ],
   "source": [
    "train['vector'] = train.opcode.apply(lambda x : tokenize_with_hex_replacement(x) )\n",
    "train['vector'] = train['vector'].apply(lambda x: get_average_vector(x, model))\n",
    "train_tr = pd.DataFrame(train['vector'].tolist())\n",
    "train_tr['malicious'] = train['malicious']\n",
    "print('data transoformed')"
   ]
  },
  {
   "cell_type": "code",
   "execution_count": 3,
   "metadata": {},
   "outputs": [],
   "source": [
    "train_tr.to_csv('data_vectorized/train_256.csv')"
   ]
  },
  {
   "cell_type": "code",
   "execution_count": 4,
   "metadata": {},
   "outputs": [
    {
     "name": "stdout",
     "output_type": "stream",
     "text": [
      "data transoformed\n"
     ]
    }
   ],
   "source": [
    "val['vector'] = val.opcode.apply(lambda x : tokenize_with_hex_replacement(x) )\n",
    "val['vector'] = val['vector'].apply(lambda x: get_average_vector(x, model))\n",
    "val_tr = pd.DataFrame(val['vector'].tolist())\n",
    "val_tr['malicious'] = val['malicious']\n",
    "print('data transoformed')"
   ]
  },
  {
   "cell_type": "code",
   "execution_count": 5,
   "metadata": {},
   "outputs": [],
   "source": [
    "val_tr.to_csv('data_vectorized/val_256.csv')"
   ]
  },
  {
   "cell_type": "code",
   "execution_count": 6,
   "metadata": {},
   "outputs": [
    {
     "name": "stdout",
     "output_type": "stream",
     "text": [
      "data transoformed\n"
     ]
    }
   ],
   "source": [
    "test['vector'] = test.opcode.apply(lambda x : tokenize_with_hex_replacement(x) )\n",
    "test['vector'] = test['vector'].apply(lambda x: get_average_vector(x, model))\n",
    "test_tr = pd.DataFrame(test['vector'].tolist())\n",
    "test_tr['malicious'] = test['malicious']\n",
    "print('data transoformed')"
   ]
  },
  {
   "cell_type": "code",
   "execution_count": 7,
   "metadata": {},
   "outputs": [],
   "source": [
    "test_tr.to_csv('data_vectorized/test_256.csv')"
   ]
  },
  {
   "cell_type": "code",
   "execution_count": 8,
   "metadata": {},
   "outputs": [
    {
     "name": "stdout",
     "output_type": "stream",
     "text": [
      "malicious\n",
      "0    23229\n",
      "1       36\n",
      "Name: count, dtype: int64\n",
      "malicious\n",
      "0    23229\n",
      "1       36\n",
      "Name: count, dtype: int64\n"
     ]
    }
   ],
   "source": [
    "print(test.malicious.value_counts())\n",
    "print(test_tr.malicious.value_counts())"
   ]
  },
  {
   "cell_type": "code",
   "execution_count": 9,
   "metadata": {},
   "outputs": [
    {
     "name": "stdout",
     "output_type": "stream",
     "text": [
      "malicious\n",
      "0    9957\n",
      "1      15\n",
      "Name: count, dtype: int64\n",
      "malicious\n",
      "0    9957\n",
      "1      15\n",
      "Name: count, dtype: int64\n"
     ]
    }
   ],
   "source": [
    "print(val.malicious.value_counts())\n",
    "print(val_tr.malicious.value_counts())"
   ]
  },
  {
   "cell_type": "code",
   "execution_count": 10,
   "metadata": {},
   "outputs": [
    {
     "name": "stdout",
     "output_type": "stream",
     "text": [
      "malicious\n",
      "0    23229\n",
      "1       36\n",
      "Name: count, dtype: int64\n",
      "malicious\n",
      "0    23229\n",
      "1       36\n",
      "Name: count, dtype: int64\n"
     ]
    }
   ],
   "source": [
    "print(test.malicious.value_counts())\n",
    "print(test_tr.malicious.value_counts())"
   ]
  },
  {
   "cell_type": "code",
   "execution_count": null,
   "metadata": {},
   "outputs": [],
   "source": []
  }
 ],
 "metadata": {
  "kernelspec": {
   "display_name": ".venv",
   "language": "python",
   "name": "python3"
  },
  "language_info": {
   "codemirror_mode": {
    "name": "ipython",
    "version": 3
   },
   "file_extension": ".py",
   "mimetype": "text/x-python",
   "name": "python",
   "nbconvert_exporter": "python",
   "pygments_lexer": "ipython3",
   "version": "3.10.12"
  }
 },
 "nbformat": 4,
 "nbformat_minor": 2
}
